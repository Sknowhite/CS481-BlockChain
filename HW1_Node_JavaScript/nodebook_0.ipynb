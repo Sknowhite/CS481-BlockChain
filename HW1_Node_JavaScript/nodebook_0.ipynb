{
 "cells": [
  {
   "cell_type": "markdown",
   "metadata": {},
   "source": [
    "## Nodebooks: Introducing Node.js Data Science Notebooks\n",
    "\n",
    "Notebooks are where data scientists process, analyse, and visualise data in an iterative, collaborative environment. They typically run environments for languages like Python, R, and Scala. For years, data science notebooks have served academics and research scientists as a scratchpad for writing code, refining algorithms, and sharing and proving their work. Today, it's a workflow that lends itself well to web developers experimenting with data sets in Node.js.\n",
    "\n",
    "To that end, pixiedust_node is an add-on for Jupyter notebooks that allows Node.js/JavaScript to run inside notebook cells. Not only can web developers use the same workflow for collaborating in Node.js, but they can also use the same tools to work with existing data scientists coding in Python.\n",
    "\n",
    "pixiedust_node is built on the popular PixieDust helper library. Let’s get started.\n",
    "\n",
    "> Note: Run one cell at a time or unexpected results might be observed.\n",
    "\n",
    "\n",
    "## Part 1: Variables, functions, and promises\n",
    "\n",
    "\n",
    "### Installing\n",
    "Install the [`pixiedust`](https://pypi.python.org/pypi/pixiedust) and [`pixiedust_node`](https://pypi.python.org/pypi/pixiedust-node) packages using `pip`, the Python package manager. "
   ]
  },
  {
   "cell_type": "code",
   "execution_count": 10,
   "metadata": {},
   "outputs": [
    {
     "name": "stdout",
     "output_type": "stream",
     "text": [
      "Collecting pixiedust\n",
      "Collecting lxml (from pixiedust)\n",
      "  Using cached https://files.pythonhosted.org/packages/dd/ba/a0e6866057fc0bbd17192925c1d63a3b85cf522965de9bc02364d08e5b84/lxml-4.5.0-cp36-cp36m-manylinux1_x86_64.whl\n",
      "Collecting markdown (from pixiedust)\n",
      "  Using cached https://files.pythonhosted.org/packages/c0/4e/fd492e91abdc2d2fcb70ef453064d980688762079397f779758e055f6575/Markdown-3.1.1-py2.py3-none-any.whl\n",
      "Collecting mpld3 (from pixiedust)\n",
      "Collecting requests (from pixiedust)\n",
      "  Using cached https://files.pythonhosted.org/packages/51/bd/23c926cd341ea6b7dd0b2a00aba99ae0f828be89d72b2190f27c11d4b7fb/requests-2.22.0-py2.py3-none-any.whl\n",
      "Collecting geojson (from pixiedust)\n",
      "  Using cached https://files.pythonhosted.org/packages/e4/8d/9e28e9af95739e6d2d2f8d4bef0b3432da40b7c3588fbad4298c1be09e48/geojson-2.5.0-py2.py3-none-any.whl\n",
      "Collecting astunparse (from pixiedust)\n",
      "  Using cached https://files.pythonhosted.org/packages/2b/03/13dde6512ad7b4557eb792fbcf0c653af6076b81e5941d36ec61f7ce6028/astunparse-1.6.3-py2.py3-none-any.whl\n",
      "Collecting colour (from pixiedust)\n",
      "  Using cached https://files.pythonhosted.org/packages/74/46/e81907704ab203206769dee1385dc77e1407576ff8f50a0681d0a6b541be/colour-0.1.5-py2.py3-none-any.whl\n",
      "Collecting setuptools>=36 (from markdown->pixiedust)\n",
      "  Using cached https://files.pythonhosted.org/packages/a7/c5/6c1acea1b4ea88b86b03280f3fde1efa04fefecd4e7d2af13e602661cde4/setuptools-45.1.0-py3-none-any.whl\n",
      "Collecting idna<2.9,>=2.5 (from requests->pixiedust)\n",
      "  Using cached https://files.pythonhosted.org/packages/14/2c/cd551d81dbe15200be1cf41cd03869a46fe7226e7450af7a6545bfc474c9/idna-2.8-py2.py3-none-any.whl\n",
      "Collecting certifi>=2017.4.17 (from requests->pixiedust)\n",
      "  Using cached https://files.pythonhosted.org/packages/b9/63/df50cac98ea0d5b006c55a399c3bf1db9da7b5a24de7890bc9cfd5dd9e99/certifi-2019.11.28-py2.py3-none-any.whl\n",
      "Collecting urllib3!=1.25.0,!=1.25.1,<1.26,>=1.21.1 (from requests->pixiedust)\n",
      "  Using cached https://files.pythonhosted.org/packages/e8/74/6e4f91745020f967d09332bb2b8b9b10090957334692eb88ea4afe91b77f/urllib3-1.25.8-py2.py3-none-any.whl\n",
      "Collecting chardet<3.1.0,>=3.0.2 (from requests->pixiedust)\n",
      "  Using cached https://files.pythonhosted.org/packages/bc/a9/01ffebfb562e4274b6487b4bb1ddec7ca55ec7510b22e4c51f14098443b8/chardet-3.0.4-py2.py3-none-any.whl\n",
      "Collecting six<2.0,>=1.6.1 (from astunparse->pixiedust)\n",
      "  Using cached https://files.pythonhosted.org/packages/65/eb/1f97cb97bfc2390a276969c6fae16075da282f5058082d4cb10c6c5c1dba/six-1.14.0-py2.py3-none-any.whl\n",
      "Collecting wheel<1.0,>=0.23.0 (from astunparse->pixiedust)\n",
      "  Using cached https://files.pythonhosted.org/packages/8c/23/848298cccf8e40f5bbb59009b32848a4c38f4e7f3364297ab3c3e2e2cd14/wheel-0.34.2-py2.py3-none-any.whl\n",
      "Installing collected packages: lxml, setuptools, markdown, mpld3, idna, certifi, urllib3, chardet, requests, geojson, six, wheel, astunparse, colour, pixiedust\n",
      "Successfully installed astunparse-1.6.3 certifi-2019.11.28 chardet-3.0.4 colour-0.1.5 geojson-2.5.0 idna-2.8 lxml-4.5.0 markdown-3.1.1 mpld3-0.3 pixiedust-1.1.18 requests-2.22.0 setuptools-45.1.0 six-1.14.0 urllib3-1.25.8 wheel-0.34.2\n",
      "Collecting pixiedust_node\n",
      "Collecting pixiedust (from pixiedust_node)\n",
      "Collecting pandas (from pixiedust_node)\n",
      "  Using cached https://files.pythonhosted.org/packages/12/d1/a6502c2f5c15b50f5dd579fc1c52b47edf6f2e9f682aed917dd7565b3e60/pandas-1.0.0-cp36-cp36m-manylinux1_x86_64.whl\n",
      "Collecting ipython (from pixiedust_node)\n",
      "  Using cached https://files.pythonhosted.org/packages/b8/6d/1e3e335e767fc15a2047a008e27df31aa8bcf11c6f3805d03abefc69aa88/ipython-7.12.0-py3-none-any.whl\n",
      "Collecting astunparse (from pixiedust->pixiedust_node)\n",
      "  Using cached https://files.pythonhosted.org/packages/2b/03/13dde6512ad7b4557eb792fbcf0c653af6076b81e5941d36ec61f7ce6028/astunparse-1.6.3-py2.py3-none-any.whl\n",
      "Collecting lxml (from pixiedust->pixiedust_node)\n",
      "  Using cached https://files.pythonhosted.org/packages/dd/ba/a0e6866057fc0bbd17192925c1d63a3b85cf522965de9bc02364d08e5b84/lxml-4.5.0-cp36-cp36m-manylinux1_x86_64.whl\n",
      "Collecting geojson (from pixiedust->pixiedust_node)\n",
      "  Using cached https://files.pythonhosted.org/packages/e4/8d/9e28e9af95739e6d2d2f8d4bef0b3432da40b7c3588fbad4298c1be09e48/geojson-2.5.0-py2.py3-none-any.whl\n",
      "Collecting markdown (from pixiedust->pixiedust_node)\n",
      "  Using cached https://files.pythonhosted.org/packages/c0/4e/fd492e91abdc2d2fcb70ef453064d980688762079397f779758e055f6575/Markdown-3.1.1-py2.py3-none-any.whl\n",
      "Collecting mpld3 (from pixiedust->pixiedust_node)\n",
      "Collecting colour (from pixiedust->pixiedust_node)\n",
      "  Using cached https://files.pythonhosted.org/packages/74/46/e81907704ab203206769dee1385dc77e1407576ff8f50a0681d0a6b541be/colour-0.1.5-py2.py3-none-any.whl\n",
      "Collecting requests (from pixiedust->pixiedust_node)\n",
      "  Using cached https://files.pythonhosted.org/packages/51/bd/23c926cd341ea6b7dd0b2a00aba99ae0f828be89d72b2190f27c11d4b7fb/requests-2.22.0-py2.py3-none-any.whl\n",
      "Collecting python-dateutil>=2.6.1 (from pandas->pixiedust_node)\n",
      "  Using cached https://files.pythonhosted.org/packages/d4/70/d60450c3dd48ef87586924207ae8907090de0b306af2bce5d134d78615cb/python_dateutil-2.8.1-py2.py3-none-any.whl\n",
      "Collecting numpy>=1.13.3 (from pandas->pixiedust_node)\n",
      "  Using cached https://files.pythonhosted.org/packages/62/20/4d43e141b5bc426ba38274933ef8e76e85c7adea2c321ecf9ebf7421cedf/numpy-1.18.1-cp36-cp36m-manylinux1_x86_64.whl\n",
      "Collecting pytz>=2017.2 (from pandas->pixiedust_node)\n",
      "  Using cached https://files.pythonhosted.org/packages/e7/f9/f0b53f88060247251bf481fa6ea62cd0d25bf1b11a87888e53ce5b7c8ad2/pytz-2019.3-py2.py3-none-any.whl\n",
      "Collecting pexpect; sys_platform != \"win32\" (from ipython->pixiedust_node)\n",
      "  Using cached https://files.pythonhosted.org/packages/39/7b/88dbb785881c28a102619d46423cb853b46dbccc70d3ac362d99773a78ce/pexpect-4.8.0-py2.py3-none-any.whl\n",
      "Collecting setuptools>=18.5 (from ipython->pixiedust_node)\n",
      "  Using cached https://files.pythonhosted.org/packages/a7/c5/6c1acea1b4ea88b86b03280f3fde1efa04fefecd4e7d2af13e602661cde4/setuptools-45.1.0-py3-none-any.whl\n",
      "Collecting jedi>=0.10 (from ipython->pixiedust_node)\n",
      "  Using cached https://files.pythonhosted.org/packages/01/67/333e2196b70840f411fd819407b4e98aa3150c2bd24c52154a451f912ef2/jedi-0.16.0-py2.py3-none-any.whl\n",
      "Collecting pygments (from ipython->pixiedust_node)\n",
      "  Using cached https://files.pythonhosted.org/packages/be/39/32da3184734730c0e4d3fa3b2b5872104668ad6dc1b5a73d8e477e5fe967/Pygments-2.5.2-py2.py3-none-any.whl\n",
      "Collecting traitlets>=4.2 (from ipython->pixiedust_node)\n",
      "  Using cached https://files.pythonhosted.org/packages/ca/ab/872a23e29cec3cf2594af7e857f18b687ad21039c1f9b922fac5b9b142d5/traitlets-4.3.3-py2.py3-none-any.whl\n",
      "Collecting backcall (from ipython->pixiedust_node)\n",
      "Collecting decorator (from ipython->pixiedust_node)\n",
      "  Using cached https://files.pythonhosted.org/packages/8f/b7/f329cfdc75f3d28d12c65980e4469e2fa373f1953f5df6e370e84ea2e875/decorator-4.4.1-py2.py3-none-any.whl\n",
      "Collecting prompt-toolkit!=3.0.0,!=3.0.1,<3.1.0,>=2.0.0 (from ipython->pixiedust_node)\n",
      "  Using cached https://files.pythonhosted.org/packages/f5/22/f00412fafc68169054cc623a35c32773f22b403ddbe516c8adfdecf25341/prompt_toolkit-3.0.3-py3-none-any.whl\n",
      "Collecting pickleshare (from ipython->pixiedust_node)\n",
      "  Using cached https://files.pythonhosted.org/packages/9a/41/220f49aaea88bc6fa6cba8d05ecf24676326156c23b991e80b3f2fc24c77/pickleshare-0.7.5-py2.py3-none-any.whl\n",
      "Collecting wheel<1.0,>=0.23.0 (from astunparse->pixiedust->pixiedust_node)\n",
      "  Using cached https://files.pythonhosted.org/packages/8c/23/848298cccf8e40f5bbb59009b32848a4c38f4e7f3364297ab3c3e2e2cd14/wheel-0.34.2-py2.py3-none-any.whl\n",
      "Collecting six<2.0,>=1.6.1 (from astunparse->pixiedust->pixiedust_node)\n",
      "  Using cached https://files.pythonhosted.org/packages/65/eb/1f97cb97bfc2390a276969c6fae16075da282f5058082d4cb10c6c5c1dba/six-1.14.0-py2.py3-none-any.whl\n",
      "Collecting chardet<3.1.0,>=3.0.2 (from requests->pixiedust->pixiedust_node)\n",
      "  Using cached https://files.pythonhosted.org/packages/bc/a9/01ffebfb562e4274b6487b4bb1ddec7ca55ec7510b22e4c51f14098443b8/chardet-3.0.4-py2.py3-none-any.whl\n",
      "Collecting urllib3!=1.25.0,!=1.25.1,<1.26,>=1.21.1 (from requests->pixiedust->pixiedust_node)\n",
      "  Using cached https://files.pythonhosted.org/packages/e8/74/6e4f91745020f967d09332bb2b8b9b10090957334692eb88ea4afe91b77f/urllib3-1.25.8-py2.py3-none-any.whl\n"
     ]
    },
    {
     "name": "stdout",
     "output_type": "stream",
     "text": [
      "Collecting idna<2.9,>=2.5 (from requests->pixiedust->pixiedust_node)\n",
      "  Using cached https://files.pythonhosted.org/packages/14/2c/cd551d81dbe15200be1cf41cd03869a46fe7226e7450af7a6545bfc474c9/idna-2.8-py2.py3-none-any.whl\n",
      "Collecting certifi>=2017.4.17 (from requests->pixiedust->pixiedust_node)\n",
      "  Using cached https://files.pythonhosted.org/packages/b9/63/df50cac98ea0d5b006c55a399c3bf1db9da7b5a24de7890bc9cfd5dd9e99/certifi-2019.11.28-py2.py3-none-any.whl\n",
      "Collecting ptyprocess>=0.5 (from pexpect; sys_platform != \"win32\"->ipython->pixiedust_node)\n",
      "  Using cached https://files.pythonhosted.org/packages/d1/29/605c2cc68a9992d18dada28206eeada56ea4bd07a239669da41674648b6f/ptyprocess-0.6.0-py2.py3-none-any.whl\n",
      "Collecting parso>=0.5.2 (from jedi>=0.10->ipython->pixiedust_node)\n",
      "  Downloading https://files.pythonhosted.org/packages/ec/bb/3b6c9f604ac40e2a7833bc767bd084035f12febcbd2b62204c5bc30edf97/parso-0.6.1-py2.py3-none-any.whl (97kB)\n",
      "\u001b[K    100% |████████████████████████████████| 102kB 2.7MB/s a 0:00:011\n",
      "\u001b[?25hCollecting ipython-genutils (from traitlets>=4.2->ipython->pixiedust_node)\n",
      "  Using cached https://files.pythonhosted.org/packages/fa/bc/9bd3b5c2b4774d5f33b2d544f1460be9df7df2fe42f352135381c347c69a/ipython_genutils-0.2.0-py2.py3-none-any.whl\n",
      "Collecting wcwidth (from prompt-toolkit!=3.0.0,!=3.0.1,<3.1.0,>=2.0.0->ipython->pixiedust_node)\n",
      "  Using cached https://files.pythonhosted.org/packages/58/b4/4850a0ccc6f567cc0ebe7060d20ffd4258b8210efadc259da62dc6ed9c65/wcwidth-0.1.8-py2.py3-none-any.whl\n",
      "Installing collected packages: wheel, six, astunparse, lxml, geojson, setuptools, markdown, mpld3, colour, chardet, urllib3, idna, certifi, requests, pixiedust, python-dateutil, numpy, pytz, pandas, ptyprocess, pexpect, parso, jedi, pygments, decorator, ipython-genutils, traitlets, backcall, wcwidth, prompt-toolkit, pickleshare, ipython, pixiedust-node\n",
      "Successfully installed astunparse-1.6.3 backcall-0.1.0 certifi-2019.11.28 chardet-3.0.4 colour-0.1.5 decorator-4.4.1 geojson-2.5.0 idna-2.8 ipython-7.12.0 ipython-genutils-0.2.0 jedi-0.16.0 lxml-4.5.0 markdown-3.1.1 mpld3-0.3 numpy-1.18.1 pandas-1.0.0 parso-0.6.1 pexpect-4.8.0 pickleshare-0.7.5 pixiedust-1.1.18 pixiedust-node-0.2.5 prompt-toolkit-3.0.3 ptyprocess-0.6.0 pygments-2.5.2 python-dateutil-2.8.1 pytz-2019.3 requests-2.22.0 setuptools-45.1.0 six-1.14.0 traitlets-4.3.3 urllib3-1.25.8 wcwidth-0.1.8 wheel-0.34.2\n"
     ]
    }
   ],
   "source": [
    "# install or upgrade the packages\n",
    "# restart the kernel to pick up the latest version\n",
    "!pip3 install pixiedust --upgrade\n",
    "!pip3 install pixiedust_node --upgrade"
   ]
  },
  {
   "cell_type": "markdown",
   "metadata": {},
   "source": [
    "### Using pixiedust_node\n",
    "Now we can import `pixiedust_node` into our notebook:"
   ]
  },
  {
   "cell_type": "code",
   "execution_count": 1,
   "metadata": {},
   "outputs": [
    {
     "name": "stdout",
     "output_type": "stream",
     "text": [
      "Pixiedust database opened successfully\n"
     ]
    },
    {
     "data": {
      "text/html": [
       "\n",
       "        <div style=\"margin:10px\">\n",
       "            <a href=\"https://github.com/ibm-watson-data-lab/pixiedust\" target=\"_new\">\n",
       "                <img src=\"https://github.com/ibm-watson-data-lab/pixiedust/raw/master/docs/_static/pd_icon32.png\" style=\"float:left;margin-right:10px\"/>\n",
       "            </a>\n",
       "            <span>Pixiedust version 1.1.18</span>\n",
       "        </div>\n",
       "        "
      ],
      "text/plain": [
       "<IPython.core.display.HTML object>"
      ]
     },
     "metadata": {},
     "output_type": "display_data"
    },
    {
     "data": {
      "text/html": [
       "\n",
       "            <div style=\"margin:10px\"> \n",
       "            <a href=\"https://github.com/ibm-cds-labs/pixiedust_node\" target=\"_new\"> \n",
       "            <img src=\"https://github.com/ibm-cds-labs/pixiedust_node/raw/master/docs/_images/pdn_icon32.png\" style=\"float:left;margin-right:10px\"/> \n",
       "            </a> \n",
       "            <span>Pixiedust Node.js</span> \n",
       "            </div> \n"
      ],
      "text/plain": [
       "<IPython.core.display.HTML object>"
      ]
     },
     "metadata": {},
     "output_type": "display_data"
    },
    {
     "name": "stdout",
     "output_type": "stream",
     "text": [
      "pixiedust_node 0.2.5 started. Cells starting '%%node' may contain Node.js code.\n"
     ]
    }
   ],
   "source": [
    "import pixiedust_node"
   ]
  },
  {
   "cell_type": "markdown",
   "metadata": {},
   "source": [
    "And then we can write JavaScript code in cells whose first line is `%%node`:"
   ]
  },
  {
   "cell_type": "code",
   "execution_count": 2,
   "metadata": {},
   "outputs": [],
   "source": [
    "%%node\n",
    "// get the current date\n",
    "var date = new Date();\n",
    "console.log(date);"
   ]
  },
  {
   "cell_type": "markdown",
   "metadata": {},
   "source": [
    "It’s that easy! We can have Python and Node.js in the same notebook. Cells are Python by default, but simply starting a cell with `%%node` indicates that the next lines will be JavaScript."
   ]
  },
  {
   "cell_type": "markdown",
   "metadata": {},
   "source": [
    "### Displaying HTML and images in notebook cells\n",
    "We can use the `html` function to render HTML code in a cell:"
   ]
  },
  {
   "cell_type": "code",
   "execution_count": 3,
   "metadata": {},
   "outputs": [],
   "source": [
    "%%node\n",
    "var str = '<h2>Quote</h2><blockquote cite=\"https://www.quora.com/Albert-Einstein-reportedly-said-The-true-sign-of-intelligence-is-not-knowledge-but-imagination-What-did-he-mean\">\"Imagination is more important than knowledge\"\\nAlbert Einstein</blockquote>';\n",
    "html(str)"
   ]
  },
  {
   "cell_type": "markdown",
   "metadata": {},
   "source": [
    "If we have an image we want to render, we can do that with the `image` function:"
   ]
  },
  {
   "cell_type": "code",
   "execution_count": 4,
   "metadata": {},
   "outputs": [],
   "source": [
    "%%node\n",
    "var url = 'https://github.com/IBM/nodejs-in-notebooks/blob/master/notebooks/images/pixiedust_node_schematic.png?raw=true';\n",
    "image(url);"
   ]
  },
  {
   "cell_type": "markdown",
   "metadata": {},
   "source": [
    "### Printing JavaScript variables\n",
    "\n",
    "Print variables using `console.log`."
   ]
  },
  {
   "cell_type": "code",
   "execution_count": 5,
   "metadata": {},
   "outputs": [],
   "source": [
    "%%node\n",
    "var x = { a:1, b:'two', c: true };\n",
    "console.log(x);"
   ]
  },
  {
   "cell_type": "markdown",
   "metadata": {},
   "source": [
    "Calling the `print` function within your JavaScript code is the same as calling `print` in your Python code."
   ]
  },
  {
   "cell_type": "code",
   "execution_count": 6,
   "metadata": {},
   "outputs": [],
   "source": [
    "%%node\n",
    "var y = { a:3, b:'four', c: false };\n",
    "print(y);"
   ]
  },
  {
   "cell_type": "markdown",
   "metadata": {},
   "source": [
    "### Visualizing data using PixieDust\n",
    "You can also use PixieDust’s `display` function to render data graphically. Configuring the output as line chart, the visualization looks as follows: "
   ]
  },
  {
   "cell_type": "code",
   "execution_count": 7,
   "metadata": {
    "pixiedust": {
     "displayParams": {
      "aggregation": "SUM",
      "chartsize": "100",
      "handlerId": "lineChart",
      "keyFields": "x",
      "lineChartType": "grouped",
      "logx": "false",
      "rendererId": "bokeh",
      "rowCount": "500",
      "timeseries": "true",
      "valueFields": "cos,sin"
     }
    }
   },
   "outputs": [],
   "source": [
    "%%node\n",
    "var data = [];\n",
    "for (var i = 0; i < 1000; i++) {\n",
    "    var x = 2*Math.PI * i/ 360;\n",
    "    var obj = {\n",
    "      x: x,\n",
    "      i: i,\n",
    "      sin: Math.sin(x),\n",
    "      cos: Math.cos(x),\n",
    "      tan: Math.tan(x)\n",
    "    };\n",
    "    data.push(obj);\n",
    "}\n",
    "// render data \n",
    "\n",
    "display(data);"
   ]
  },
  {
   "cell_type": "markdown",
   "metadata": {},
   "source": [
    "PixieDust presents visualisations of DataFrames using Matplotlib, Bokeh, Brunel, d3, Google Maps and, MapBox. No code is required on your part because PixieDust presents simple pull-down menus and a friendly point-and-click interface, allowing you to configure how the data is presented:\n",
    "\n",
    "<img src=\"https://github.com/IBM/nodejs-in-notebooks/blob/master/notebooks/images/pd_chart_types.png?raw=true\"></img>"
   ]
  },
  {
   "cell_type": "markdown",
   "metadata": {},
   "source": [
    "### Adding npm modules\n",
    "There are thousands of libraries and tools in the npm repository, Node.js’s package manager. It’s essential that we can install npm libraries and use them in our notebook code.\n",
    "Let’s say we want to make some HTTP calls to an external API service. We could deal with Node.js’s low-level HTTP library, or an easier option would be to use the ubiquitous `request` npm module.\n",
    "Once we have pixiedust_node set up, installing an npm module is as simple as running `npm.install` in a Python cell:"
   ]
  },
  {
   "cell_type": "code",
   "execution_count": null,
   "metadata": {
    "pixiedust": {
     "displayParams": {}
    }
   },
   "outputs": [],
   "source": [
    "npm.install('request');"
   ]
  },
  {
   "cell_type": "markdown",
   "metadata": {},
   "source": [
    "Once installed, you may `require` the module in your JavaScript code:"
   ]
  },
  {
   "cell_type": "code",
   "execution_count": 9,
   "metadata": {},
   "outputs": [],
   "source": [
    "%%node\n",
    "var request = require('request');\n",
    "var r = {\n",
    "    method:'GET',\n",
    "    url: 'http://api.open-notify.org/iss-now.json',\n",
    "    json: true\n",
    "};\n",
    "request(r, function(err, req, body) {\n",
    "    console.log(body);\n",
    "});\n"
   ]
  },
  {
   "cell_type": "markdown",
   "metadata": {},
   "source": [
    "As an HTTP request is an asynchronous action, the `request` library calls our callback function when the operation has completed. Inside that function, we can call print to render the data.\n",
    "We can organise our code into functions to encapsulate complexity and make it easier to reuse code. We can create a function to get the current position of the International Space Station in one notebook cell:"
   ]
  },
  {
   "cell_type": "code",
   "execution_count": 10,
   "metadata": {},
   "outputs": [],
   "source": [
    "%%node\n",
    "var request = require('request');\n",
    "var getPosition = function(callback) {\n",
    "    var r = {\n",
    "        method:'GET',\n",
    "        url: 'http://api.open-notify.org/iss-now.json',\n",
    "        json: true\n",
    "    };\n",
    "    request(r, function(err, req, body) {\n",
    "        var obj = null;\n",
    "        if (!err) {\n",
    "            obj = body.iss_position\n",
    "            obj.latitude = parseFloat(obj.latitude);\n",
    "            obj.longitude = parseFloat(obj.longitude);\n",
    "            obj.time = new Date().getTime();       \n",
    "        }\n",
    "        callback(err, obj);\n",
    "    });\n",
    "};"
   ]
  },
  {
   "cell_type": "markdown",
   "metadata": {},
   "source": [
    "And use it in another cell:"
   ]
  },
  {
   "cell_type": "code",
   "execution_count": 11,
   "metadata": {},
   "outputs": [],
   "source": [
    "%%node\n",
    "getPosition(function(err, data) {\n",
    "    console.log(data);\n",
    "});"
   ]
  },
  {
   "cell_type": "markdown",
   "metadata": {},
   "source": [
    "### Promises\n",
    "If you prefer to work with JavaScript Promises when writing asynchronous code, then that’s okay too. Let’s rewrite our `getPosition` function to return a Promise. First we're going to install the `request-promise` module from npm:"
   ]
  },
  {
   "cell_type": "code",
   "execution_count": 12,
   "metadata": {},
   "outputs": [
    {
     "name": "stdout",
     "output_type": "stream",
     "text": [
      "/usr/bin/npm install -s request request-promise\n",
      "... ... ... ...\n",
      "... ...\n",
      "... ..... ..... ..... ..... ... ..... ..... ....... ....... ....... ....... ....... ..... ..... ...\n",
      "... ...\n",
      "{ timestamp: 1580782820,\n",
      "iss_position: { longitude: '105.0944', latitude: '-21.3439' },\n",
      "message: 'success' }\n",
      "{ longitude: 105.0944, latitude: -21.3439, time: 1580782820705 }\n",
      "/home/jared/node\n",
      "├── node-fetch@2.6.0\n",
      "├── promise@8.0.3\n",
      "├── request@2.88.0\n",
      "└── request-promise@4.2.5\n"
     ]
    }
   ],
   "source": [
    "npm.install( ('request', 'request-promise') )"
   ]
  },
  {
   "cell_type": "markdown",
   "metadata": {},
   "source": [
    "Notice how you can install multiple modules in a single call. Just pass in a Python `list` or `tuple`.\n",
    "Then we can refactor our function a little:"
   ]
  },
  {
   "cell_type": "code",
   "execution_count": 13,
   "metadata": {},
   "outputs": [],
   "source": [
    "%%node\n",
    "var request = require('request-promise');\n",
    "var getPosition = function(callback) {\n",
    "    var r = {\n",
    "        method:'GET',\n",
    "        url: 'http://api.open-notify.org/iss-now.json',\n",
    "        json: true\n",
    "    };\n",
    "    return request(r).then(function(body) {\n",
    "        var obj = null;\n",
    "        obj = body.iss_position;\n",
    "        obj.latitude = parseFloat(obj.latitude);\n",
    "        obj.longitude = parseFloat(obj.longitude);\n",
    "        obj.time = new Date().getTime();         \n",
    "        return obj;\n",
    "    });\n",
    "};"
   ]
  },
  {
   "cell_type": "markdown",
   "metadata": {},
   "source": [
    "And call it in the Promises style:"
   ]
  },
  {
   "cell_type": "code",
   "execution_count": 14,
   "metadata": {},
   "outputs": [],
   "source": [
    "%%node\n",
    "getPosition().then(function(data) {\n",
    "  console.log(data);\n",
    "}).catch(function(err) {\n",
    "  console.error(err);    \n",
    "});"
   ]
  },
  {
   "cell_type": "markdown",
   "metadata": {},
   "source": [
    "Or call it in a more compact form:"
   ]
  },
  {
   "cell_type": "code",
   "execution_count": 15,
   "metadata": {},
   "outputs": [],
   "source": [
    "%%node\n",
    "getPosition().then(console.log).catch(console.error);"
   ]
  },
  {
   "cell_type": "markdown",
   "metadata": {},
   "source": [
    "***\n",
    "# Part 3: Sharing data between Python and Node.js cells\n",
    "\n",
    "You can share variables between Python and Node.js cells. Why woud you want to do that? Read on.\n",
    "\n",
    "The Node.js library ecosystem is extensive. Perhaps you need to fetch data from a database and prefer the syntax of a particular Node.js npm module. You can use Node.js to fetch the data, move it to the Python environment, and convert it into a Pandas or Spark DataFrame for aggregation, analysis and visualisation.\n",
    "\n",
    "PixieDust and pixiedust_node give you the flexibility to mix and match Python and Node.js code to suit the workflow you are building and the skill sets you have in your team.\n",
    "\n",
    "Mixing Node.js and Python code in the same notebook is a great way to integrate the work of your software development and data science teams to produce a collaborative report or dashboard.\n",
    "\n",
    "\n",
    "### Sharing data\n",
    "\n",
    "Define variables in a Python cell."
   ]
  },
  {
   "cell_type": "code",
   "execution_count": 16,
   "metadata": {},
   "outputs": [],
   "source": [
    "# define a couple variables in Python\n",
    "a = 'Hello from Python!'\n",
    "b = 2\n",
    "c = False\n",
    "d = {'x':1, 'y':2}\n",
    "e = 3.142\n",
    "f = [{'a':1}, {'a':2}, {'a':3}]"
   ]
  },
  {
   "cell_type": "markdown",
   "metadata": {},
   "source": [
    "Access or modify their values in Node.js cells."
   ]
  },
  {
   "cell_type": "code",
   "execution_count": 17,
   "metadata": {},
   "outputs": [],
   "source": [
    "%%node\n",
    "// print variable values\n",
    "console.log(a, b, c, d, e, f);\n",
    "\n",
    "// change variable value \n",
    "a = 'Hello from Node.js!';\n",
    "\n",
    "// define a new variable\n",
    "var g = 'Yes, it works both ways.';"
   ]
  },
  {
   "cell_type": "markdown",
   "metadata": {},
   "source": [
    "Inspect the manipulated data."
   ]
  },
  {
   "cell_type": "code",
   "execution_count": 18,
   "metadata": {},
   "outputs": [
    {
     "ename": "NameError",
     "evalue": "name 'g' is not defined",
     "output_type": "error",
     "traceback": [
      "\u001b[0;31m---------------------------------------------------------------------------\u001b[0m",
      "\u001b[0;31mNameError\u001b[0m                                 Traceback (most recent call last)",
      "\u001b[0;32m<ipython-input-18-501c0c0ff571>\u001b[0m in \u001b[0;36m<module>\u001b[0;34m\u001b[0m\n\u001b[1;32m      1\u001b[0m \u001b[0;31m# display modified variable and the new variable\u001b[0m\u001b[0;34m\u001b[0m\u001b[0;34m\u001b[0m\u001b[0;34m\u001b[0m\u001b[0m\n\u001b[0;32m----> 2\u001b[0;31m \u001b[0mprint\u001b[0m\u001b[0;34m(\u001b[0m\u001b[0;34m'{} {}'\u001b[0m\u001b[0;34m.\u001b[0m\u001b[0mformat\u001b[0m\u001b[0;34m(\u001b[0m\u001b[0ma\u001b[0m\u001b[0;34m,\u001b[0m\u001b[0mg\u001b[0m\u001b[0;34m)\u001b[0m\u001b[0;34m)\u001b[0m\u001b[0;34m\u001b[0m\u001b[0;34m\u001b[0m\u001b[0m\n\u001b[0m",
      "\u001b[0;31mNameError\u001b[0m: name 'g' is not defined"
     ]
    },
    {
     "name": "stdout",
     "output_type": "stream",
     "text": [
      "... ..... ..... ..... ..... ... ..... ..... ..... ..... ..... ..... ..... ...\n",
      "... ... ... ...\n",
      "Hello from Python! 2 false { x: 1, y: 2 } 3.142 [ { a: 1 }, { a: 2 }, { a: 3 } ]\n",
      "{ longitude: 105.4089, latitude: -20.9819, time: 1580782828008 }\n",
      "{ longitude: 105.4089, latitude: -20.9819, time: 1580782828027 }\n"
     ]
    }
   ],
   "source": [
    "# display modified variable and the new variable\n",
    "print('{} {}'.format(a,g))"
   ]
  },
  {
   "cell_type": "markdown",
   "metadata": {},
   "source": [
    "**Note:** PixieDust natively supports [data sharing between Python and Scala](https://ibm-watson-data-lab.github.io/pixiedust/scalabridge.html), extending the loop for some data types:\n",
    " ```\n",
    " %%scala\n",
    " println(a,b,c,d,e,f,g)\n",
    " \n",
    " (Hello from Node.js!,2,null,null,null,null,Yes, it works both ways.)\n",
    " ```"
   ]
  },
  {
   "cell_type": "markdown",
   "metadata": {},
   "source": [
    "### Sharing data from an asynchronous callback\n",
    "\n",
    "If you wish transfer data from Node.js to Python from an asynchronous callback, make sure you write the data to a global variable. \n",
    "\n",
    "Load a csv file from a GitHub repository."
   ]
  },
  {
   "cell_type": "code",
   "execution_count": null,
   "metadata": {},
   "outputs": [],
   "source": [
    "%%node\n",
    "\n",
    "// global variable\n",
    "var sample_csv_data = '';\n",
    "\n",
    "// load csv file from GitHub and store data in the global variable\n",
    "request.get('https://github.com/ibm-watson-data-lab/open-data/raw/master/cars/cars.csv').then(function(data) {\n",
    "  sample_csv_data = data;\n",
    "  console.log('Fetched sample data from GitHub.');\n",
    "});"
   ]
  },
  {
   "cell_type": "markdown",
   "metadata": {},
   "source": [
    "Create a Pandas DataFrame from the downloaded data."
   ]
  },
  {
   "cell_type": "code",
   "execution_count": null,
   "metadata": {
    "pixiedust": {
     "displayParams": {}
    }
   },
   "outputs": [],
   "source": [
    "import pandas as pd\n",
    "import io\n",
    "# create DataFrame from shared csv data\n",
    "pandas_df = pd.read_csv(io.StringIO(sample_csv_data))\n",
    "# display first five rows\n",
    "pandas_df.head(5)"
   ]
  },
  {
   "cell_type": "code",
   "execution_count": null,
   "metadata": {},
   "outputs": [],
   "source": [
    "pandas_df.shape"
   ]
  },
  {
   "cell_type": "markdown",
   "metadata": {},
   "source": [
    "**Note**: Above example is for illustrative purposes only.  A much easier solution is to use [PixieDust's sampleData method](https://ibm-watson-data-lab.github.io/pixiedust/loaddata.html#load-a-csv-using-its-url) if you want to create a DataFrame from a URL. "
   ]
  },
  {
   "cell_type": "markdown",
   "metadata": {},
   "source": [
    "#### References:\n",
    " * [Nodebooks: Introducing Node.js Data Science Notebooks](https://medium.com/ibm-watson-data-lab/nodebooks-node-js-data-science-notebooks-aa140bea21ba)\n",
    " * [Nodebooks: Sharing Data Between Node.js & Python](https://medium.com/ibm-watson-data-lab/nodebooks-sharing-data-between-node-js-python-3a4acae27a02)\n",
    " * [Sharing Variables Between Python & Node.js in Jupyter Notebooks](https://medium.com/ibm-watson-data-lab/sharing-variables-between-python-node-js-in-jupyter-notebooks-682a79d4bdd9)"
   ]
  },
  {
   "cell_type": "markdown",
   "metadata": {},
   "source": [
    "# Main Part"
   ]
  },
  {
   "cell_type": "markdown",
   "metadata": {},
   "source": [
    " ## Callbacks"
   ]
  },
  {
   "cell_type": "code",
   "execution_count": null,
   "metadata": {},
   "outputs": [],
   "source": [
    "import pixiedust_node"
   ]
  },
  {
   "cell_type": "code",
   "execution_count": null,
   "metadata": {},
   "outputs": [],
   "source": [
    "%%node\n",
    "\n",
    "posts = [\n",
    "  { title: 'Post One', body: 'This is post one' },\n",
    "  { title: 'Post Two', body: 'This is post two' }\n",
    "];"
   ]
  },
  {
   "cell_type": "code",
   "execution_count": null,
   "metadata": {},
   "outputs": [],
   "source": [
    "%%node\n",
    "\n",
    "function getPosts() {\n",
    "  setTimeout(() => {\n",
    "    let output = '';\n",
    "    posts.forEach((post, index) => {\n",
    "      output += `${post.title}\\n`;\n",
    "    });\n",
    "    //document.body.innerHTML = output;\n",
    "      console.log(output)\n",
    "  }, 1000);\n",
    "}\n",
    "\n",
    "function createPost(post, callback) {\n",
    "  setTimeout(() => {\n",
    "    posts.push(post);\n",
    "    callback();\n",
    "  }, 2000);\n",
    "}\n",
    "\n",
    "createPost({ title: 'Post Three', body: 'This is post three' }, getPosts);"
   ]
  },
  {
   "cell_type": "markdown",
   "metadata": {},
   "source": [
    "## Promises"
   ]
  },
  {
   "cell_type": "code",
   "execution_count": null,
   "metadata": {},
   "outputs": [],
   "source": [
    "npm.install('promise')"
   ]
  },
  {
   "cell_type": "code",
   "execution_count": null,
   "metadata": {},
   "outputs": [],
   "source": [
    "%%node\n",
    "var Promise = require('promise');\n",
    "\n",
    "function createPost(post) {\n",
    "  return new Promise((resolve, reject) => {\n",
    "    setTimeout(() => {\n",
    "      posts.push(post);\n",
    "\n",
    "      const error = false;\n",
    "\n",
    "      if (!error) {\n",
    "        resolve();\n",
    "      } else {\n",
    "        reject('Error: Something went wrong');\n",
    "      }\n",
    "    }, 2000);\n",
    "  });\n",
    "}"
   ]
  },
  {
   "cell_type": "code",
   "execution_count": null,
   "metadata": {},
   "outputs": [],
   "source": [
    "%%node\n",
    "\n",
    "createPost({ title: 'Post Four', body: 'This is post four' }).then(getPosts).catch(err => console.log(err));"
   ]
  },
  {
   "cell_type": "code",
   "execution_count": null,
   "metadata": {},
   "outputs": [],
   "source": [
    "npm.install('node-fetch')"
   ]
  },
  {
   "cell_type": "code",
   "execution_count": null,
   "metadata": {
    "scrolled": true
   },
   "outputs": [],
   "source": [
    "%%node\n",
    "const fetch = require('node-fetch');\n",
    "\n",
    "// Promise.all\n",
    "const promise1 = Promise.resolve('Hello World');\n",
    "const promise2 = 10;\n",
    "const promise3 = new Promise((resolve, reject) =>\n",
    "  setTimeout(resolve, 2000, 'Goodbye')\n",
    ");\n",
    "const promise4 = fetch('https://jsonplaceholder.typicode.com/users').then(res =>\n",
    "  res.json()\n",
    ");\n",
    "\n",
    "Promise.all([promise1, promise2, promise3, promise4]).then(values =>\n",
    "  console.log(values)\n",
    ");\n"
   ]
  },
  {
   "cell_type": "markdown",
   "metadata": {},
   "source": [
    "## Async/ Await"
   ]
  },
  {
   "cell_type": "code",
   "execution_count": null,
   "metadata": {},
   "outputs": [],
   "source": [
    "%%node\n",
    "\n",
    "createPost({ title: 'Post Five', body: 'This is post Five' }).then(getPosts).catch(err => console.log(err));"
   ]
  },
  {
   "cell_type": "markdown",
   "metadata": {},
   "source": [
    "\n",
    "The cell above calls `.then()` on the promise. The cell below uses the new `async/await` syntax to perform the same task."
   ]
  },
  {
   "cell_type": "code",
   "execution_count": null,
   "metadata": {},
   "outputs": [],
   "source": [
    "%%node\n",
    "\n",
    "async function init() {\n",
    "  await createPost({ title: 'Post Six', body: 'This is post Six' });\n",
    "\n",
    "  getPosts();\n",
    "}\n",
    "\n",
    "init();"
   ]
  },
  {
   "cell_type": "code",
   "execution_count": null,
   "metadata": {},
   "outputs": [],
   "source": [
    "%%node\n",
    "\n",
    "// Asunc / Await / Fetch\n",
    "\n",
    "async function fetchUsers() {\n",
    "  const res = await fetch('https://jsonplaceholder.typicode.com/users');\n",
    "\n",
    "  const data = await res.json();\n",
    "\n",
    "  console.log(data);\n",
    "}\n",
    "\n",
    "fetchUsers();\n"
   ]
  },
  {
   "cell_type": "markdown",
   "metadata": {},
   "source": [
    "# Homework"
   ]
  },
  {
   "cell_type": "code",
   "execution_count": 1,
   "metadata": {},
   "outputs": [
    {
     "name": "stdout",
     "output_type": "stream",
     "text": [
      "Pixiedust database opened successfully\n"
     ]
    },
    {
     "data": {
      "text/html": [
       "\n",
       "        <div style=\"margin:10px\">\n",
       "            <a href=\"https://github.com/ibm-watson-data-lab/pixiedust\" target=\"_new\">\n",
       "                <img src=\"https://github.com/ibm-watson-data-lab/pixiedust/raw/master/docs/_static/pd_icon32.png\" style=\"float:left;margin-right:10px\"/>\n",
       "            </a>\n",
       "            <span>Pixiedust version 1.1.18</span>\n",
       "        </div>\n",
       "        "
      ],
      "text/plain": [
       "<IPython.core.display.HTML object>"
      ]
     },
     "metadata": {},
     "output_type": "display_data"
    },
    {
     "data": {
      "text/html": [
       "\n",
       "            <div style=\"margin:10px\"> \n",
       "            <a href=\"https://github.com/ibm-cds-labs/pixiedust_node\" target=\"_new\"> \n",
       "            <img src=\"https://github.com/ibm-cds-labs/pixiedust_node/raw/master/docs/_images/pdn_icon32.png\" style=\"float:left;margin-right:10px\"/> \n",
       "            </a> \n",
       "            <span>Pixiedust Node.js</span> \n",
       "            </div> \n"
      ],
      "text/plain": [
       "<IPython.core.display.HTML object>"
      ]
     },
     "metadata": {},
     "output_type": "display_data"
    },
    {
     "name": "stdout",
     "output_type": "stream",
     "text": [
      "pixiedust_node 0.2.5 started. Cells starting '%%node' may contain Node.js code.\n"
     ]
    }
   ],
   "source": [
    "import pixiedust_node"
   ]
  },
  {
   "cell_type": "markdown",
   "metadata": {},
   "source": [
    "## Promise\n",
    "\n",
    "### 1) Create a promise that resolves in 3 seconds and returns \"success\" string\n",
    "\n",
    "\n"
   ]
  },
  {
   "cell_type": "code",
   "execution_count": 2,
   "metadata": {},
   "outputs": [
    {
     "name": "stdout",
     "output_type": "stream",
     "text": [
      "... ..... ....... ....... ......... ......... ......... ....... ......... ......... ......... ....... ..... ...\n"
     ]
    }
   ],
   "source": [
    "%%node\n",
    "\n",
    "//1)\n",
    "\n",
    "var Promise = require('promise');\n",
    "\n",
    "function threeSecondPromise(){\n",
    "    return new Promise((resolve, reject) => {\n",
    "        setTimeout(() => {\n",
    "                var error = false;\n",
    "                if(!error){\n",
    "                    resolve(\"sucess\");\n",
    "                    \n",
    "                }\n",
    "                else{\n",
    "                    reject(\"failure\");\n",
    "                    \n",
    "                }\n",
    "            },3000);\n",
    "    });\n",
    "}\n"
   ]
  },
  {
   "cell_type": "markdown",
   "metadata": {},
   "source": [
    "### 2) Run the above promise and make it console.log \"success\"\n",
    "\n"
   ]
  },
  {
   "cell_type": "code",
   "execution_count": 3,
   "metadata": {},
   "outputs": [
    {
     "name": "stdout",
     "output_type": "stream",
     "text": [
      "sucess\n"
     ]
    }
   ],
   "source": [
    "%%node\n",
    "//2)\n",
    "threeSecondPromise().then(console.log).catch(console.log)"
   ]
  },
  {
   "cell_type": "markdown",
   "metadata": {},
   "source": [
    "### 3) Use Promise.all to fetch all of these people from Star Wars (SWAPI) at the same time.\n",
    "    Console.log the output and make sure it has a catch block as well.\n",
    "```\n",
    "const urls = [\n",
    "  'https://swapi.co/api/people/1',\n",
    "  'https://swapi.co/api/people/2',\n",
    "  'https://swapi.co/api/people/3',\n",
    "  'https://swapi.co/api/people/4'\n",
    "]\n",
    "```\n"
   ]
  },
  {
   "cell_type": "code",
   "execution_count": 4,
   "metadata": {},
   "outputs": [
    {
     "name": "stdout",
     "output_type": "stream",
     "text": [
      "...\n"
     ]
    }
   ],
   "source": [
    "%%node\n",
    "var urls = [\n",
    "]"
   ]
  },
  {
   "cell_type": "code",
   "execution_count": 5,
   "metadata": {},
   "outputs": [
    {
     "name": "stdout",
     "output_type": "stream",
     "text": [
      "... ... ... ... ...\n",
      "working\n",
      "... ... ...\n",
      "{\"name\":\"C-3PO\",\"height\":\"167\",\"mass\":\"75\",\"hair_color\":\"n/a\",\"skin_color\":\"gold\",\"eye_color\":\"yellow\",\"birth_year\":\"112BBY\",\"gender\":\"n/a\",\"homeworld\":\"https://swapi.co/api/planets/1/\",\"films\":[\"https://swapi.co/api/films/2/\",\"https://swapi.co/api/films/5/\",\"https://swapi.co/api/films/4/\",\"https://swapi.co/api/films/6/\",\"https://swapi.co/api/films/3/\",\"https://swapi.co/api/films/1/\"],\"species\":[\"https://swapi.co/api/species/2/\"],\"vehicles\":[],\"starships\":[],\"created\":\"2014-12-10T15:10:51.357000Z\",\"edited\":\"2014-12-20T21:17:50.309000Z\",\"url\":\"https://swapi.co/api/people/2/\"}\n",
      "{\"name\":\"Darth Vader\",\"height\":\"202\",\"mass\":\"136\",\"hair_color\":\"none\",\"skin_color\":\"white\",\"eye_color\":\"yellow\",\"birth_year\":\"41.9BBY\",\"gender\":\"male\",\"homeworld\":\"https://swapi.co/api/planets/1/\",\"films\":[\"https://swapi.co/api/films/2/\",\"https://swapi.co/api/films/6/\",\"https://swapi.co/api/films/3/\",\"https://swapi.co/api/films/1/\"],\"species\":[\"https://swapi.co/api/species/1/\"],\"vehicles\":[],\"starships\":[\"https://swapi.co/api/starships/13/\"],\"created\":\"2014-12-10T15:18:20.704000Z\",\"edited\":\"2014-12-20T21:17:50.313000Z\",\"url\":\"https://swapi.co/api/people/4/\"}\n",
      "{\"name\":\"Luke Skywalker\",\"height\":\"172\",\"mass\":\"77\",\"hair_color\":\"blond\",\"skin_color\":\"fair\",\"eye_color\":\"blue\",\"birth_year\":\"19BBY\",\"gender\":\"male\",\"homeworld\":\"https://swapi.co/api/planets/1/\",\"films\":[\"https://swapi.co/api/films/2/\",\"https://swapi.co/api/films/6/\",\"https://swapi.co/api/films/3/\",\"https://swapi.co/api/films/1/\",\"https://swapi.co/api/films/7/\"],\"species\":[\"https://swapi.co/api/species/1/\"],\"vehicles\":[\"https://swapi.co/api/vehicles/14/\",\"https://swapi.co/api/vehicles/30/\"],\"starships\":[\"https://swapi.co/api/starships/12/\",\"https://swapi.co/api/starships/22/\"],\"created\":\"2014-12-09T13:50:51.644000Z\",\"edited\":\"2014-12-20T21:17:56.891000Z\",\"url\":\"https://swapi.co/api/people/1/\"}\n",
      "{\"name\":\"R2-D2\",\"height\":\"96\",\"mass\":\"32\",\"hair_color\":\"n/a\",\"skin_color\":\"white, blue\",\"eye_color\":\"red\",\"birth_year\":\"33BBY\",\"gender\":\"n/a\",\"homeworld\":\"https://swapi.co/api/planets/8/\",\"films\":[\"https://swapi.co/api/films/2/\",\"https://swapi.co/api/films/5/\",\"https://swapi.co/api/films/4/\",\"https://swapi.co/api/films/6/\",\"https://swapi.co/api/films/3/\",\"https://swapi.co/api/films/1/\",\"https://swapi.co/api/films/7/\"],\"species\":[\"https://swapi.co/api/species/2/\"],\"vehicles\":[],\"starships\":[],\"created\":\"2014-12-10T15:11:50.376000Z\",\"edited\":\"2014-12-20T21:17:50.311000Z\",\"url\":\"https://swapi.co/api/people/3/\"}\n"
     ]
    }
   ],
   "source": [
    "%%node\n",
    "var Promise = require('promise');\n",
    "var request = require('request-promise');\n",
    "urls = [\n",
    "  'https://swapi.co/api/people/1',\n",
    "  'https://swapi.co/api/people/2',\n",
    "  'https://swapi.co/api/people/3',\n",
    "  'https://swapi.co/api/people/4'\n",
    "]\n",
    "\n",
    "console.log(\"working\");\n",
    "for ( var i = 0 ; i < urls.length; i++){\n",
    "    request.get(urls[i]).then(console.log).catch(function(err) { console.log(\"Something went wrong\")})\n",
    "    \n",
    "}"
   ]
  },
  {
   "cell_type": "markdown",
   "metadata": {},
   "source": [
    "\n",
    "### 4) Change one of your urls above to make it incorrect and fail the promise\n",
    "    does your catch block handle it?"
   ]
  },
  {
   "cell_type": "code",
   "execution_count": 6,
   "metadata": {},
   "outputs": [
    {
     "name": "stdout",
     "output_type": "stream",
     "text": [
      "... ... ... ... ...\n",
      "working\n",
      "... ... ...\n",
      "Something went wrong\n",
      "{\"name\":\"R2-D2\",\"height\":\"96\",\"mass\":\"32\",\"hair_color\":\"n/a\",\"skin_color\":\"white, blue\",\"eye_color\":\"red\",\"birth_year\":\"33BBY\",\"gender\":\"n/a\",\"homeworld\":\"https://swapi.co/api/planets/8/\",\"films\":[\"https://swapi.co/api/films/2/\",\"https://swapi.co/api/films/5/\",\"https://swapi.co/api/films/4/\",\"https://swapi.co/api/films/6/\",\"https://swapi.co/api/films/3/\",\"https://swapi.co/api/films/1/\",\"https://swapi.co/api/films/7/\"],\"species\":[\"https://swapi.co/api/species/2/\"],\"vehicles\":[],\"starships\":[],\"created\":\"2014-12-10T15:11:50.376000Z\",\"edited\":\"2014-12-20T21:17:50.311000Z\",\"url\":\"https://swapi.co/api/people/3/\"}\n",
      "{\"name\":\"Darth Vader\",\"height\":\"202\",\"mass\":\"136\",\"hair_color\":\"none\",\"skin_color\":\"white\",\"eye_color\":\"yellow\",\"birth_year\":\"41.9BBY\",\"gender\":\"male\",\"homeworld\":\"https://swapi.co/api/planets/1/\",\"films\":[\"https://swapi.co/api/films/2/\",\"https://swapi.co/api/films/6/\",\"https://swapi.co/api/films/3/\",\"https://swapi.co/api/films/1/\"],\"species\":[\"https://swapi.co/api/species/1/\"],\"vehicles\":[],\"starships\":[\"https://swapi.co/api/starships/13/\"],\"created\":\"2014-12-10T15:18:20.704000Z\",\"edited\":\"2014-12-20T21:17:50.313000Z\",\"url\":\"https://swapi.co/api/people/4/\"}\n",
      "{\"name\":\"C-3PO\",\"height\":\"167\",\"mass\":\"75\",\"hair_color\":\"n/a\",\"skin_color\":\"gold\",\"eye_color\":\"yellow\",\"birth_year\":\"112BBY\",\"gender\":\"n/a\",\"homeworld\":\"https://swapi.co/api/planets/1/\",\"films\":[\"https://swapi.co/api/films/2/\",\"https://swapi.co/api/films/5/\",\"https://swapi.co/api/films/4/\",\"https://swapi.co/api/films/6/\",\"https://swapi.co/api/films/3/\",\"https://swapi.co/api/films/1/\"],\"species\":[\"https://swapi.co/api/species/2/\"],\"vehicles\":[],\"starships\":[],\"created\":\"2014-12-10T15:10:51.357000Z\",\"edited\":\"2014-12-20T21:17:50.309000Z\",\"url\":\"https://swapi.co/api/people/2/\"}\n"
     ]
    }
   ],
   "source": [
    "%%node\n",
    "urls = [\n",
    "  'https://swapi.co/api/people/1/dne',\n",
    "  'https://swapi.co/api/people/2',\n",
    "  'https://swapi.co/api/people/3',\n",
    "  'https://swapi.co/api/people/4'\n",
    "]\n",
    "\n",
    "console.log(\"working\");\n",
    "for ( var i = 0 ; i < urls.length; i++){\n",
    "    request.get(urls[i]).then(console.log).catch(function(err) { console.log(\"Something went wrong\")})\n",
    "    \n",
    "}"
   ]
  },
  {
   "cell_type": "markdown",
   "metadata": {},
   "source": [
    "## Async/Await\n",
    "\n",
    "### 1) Convert the below promise into async await\n",
    "```\n",
    "fetch('https://swapi.co/api/starships/9/')\n",
    "  .then(response => response.json())\n",
    "  .then(console.log)\n",
    "```\n",
    "\n"
   ]
  },
  {
   "cell_type": "code",
   "execution_count": 2,
   "metadata": {},
   "outputs": [
    {
     "name": "stdout",
     "output_type": "stream",
     "text": [
      "... ... ... ... ...\n",
      "... ... ...\n",
      "{ name: 'Death Star',\n",
      "model: 'DS-1 Orbital Battle Station',\n",
      "manufacturer: 'Imperial Department of Military Research, Sienar Fleet Systems',\n",
      "cost_in_credits: '1000000000000',\n",
      "length: '120000',\n",
      "max_atmosphering_speed: 'n/a',\n",
      "crew: '342953',\n",
      "passengers: '843342',\n",
      "cargo_capacity: '1000000000000',\n",
      "consumables: '3 years',\n",
      "hyperdrive_rating: '4.0',\n",
      "MGLT: '10',\n",
      "starship_class: 'Deep Space Mobile Battlestation',\n",
      "pilots: [],\n",
      "films: [ 'https://swapi.co/api/films/1/' ],\n",
      "created: '2014-12-10T16:36:50.509000Z',\n",
      "edited: '2014-12-22T17:35:44.452589Z',\n",
      "url: 'https://swapi.co/api/starships/9/' }\n"
     ]
    }
   ],
   "source": [
    "%%node \n",
    "const fetch = require('node-fetch');\n",
    "\n",
    "async function fetchStarship(){\n",
    "    var ret = await fetch('https://swapi.co/api/starships/9/');\n",
    "    var data = await ret.json();\n",
    "    \n",
    "    return data;\n",
    "}\n",
    "\n",
    "(async () => {\n",
    "        let data = await fetchStarship();\n",
    "        console.log(data);\n",
    "        }) ();"
   ]
  },
  {
   "cell_type": "markdown",
   "metadata": {},
   "source": [
    "### 2) Update the function below to also have async await for this line: fetch(url).then(resp => resp.json())\n",
    "So there shouldn't be any .then() calls anymore!\n",
    "```\n",
    "const urls = [\n",
    "  'https://jsonplaceholder.typicode.com/users',\n",
    "  'https://jsonplaceholder.typicode.com/posts',\n",
    "  'https://jsonplaceholder.typicode.com/albums'\n",
    "]\n",
    "\n",
    "const getData = async function() {\n",
    "  const [ users, posts, albums ] = await Promise.all(urls.map(url =>\n",
    "      fetch(url).then(resp => resp.json())\n",
    "  ));\n",
    "  console.log('users', users);\n",
    "  console.log('posta', posts);\n",
    "  console.log('albums', albums);\n",
    "}\n",
    "```\n",
    "\n"
   ]
  },
  {
   "cell_type": "code",
   "execution_count": 12,
   "metadata": {},
   "outputs": [
    {
     "name": "stdout",
     "output_type": "stream",
     "text": [
      "SyntaxError: Identifier 'fetch' has already been declared\n",
      "... ... ... ... SyntaxError: Identifier 'urls' has already been declared\n",
      "... ... ... ... ... ... ... ... ... ...\n",
      "users [ { id: 1,\n",
      "name: 'Leanne Graham',\n",
      "username: 'Bret',\n",
      "email: 'Sincere@april.biz',\n",
      "address:\n",
      "{ street: 'Kulas Light',\n",
      "suite: 'Apt. 556',\n",
      "city: 'Gwenborough',\n",
      "zipcode: '92998-3874',\n",
      "geo: [Object] },\n",
      "phone: '1-770-736-8031 x56442',\n",
      "website: 'hildegard.org',\n",
      "company:\n",
      "{ name: 'Romaguera-Crona',\n",
      "catchPhrase: 'Multi-layered client-server neural-net',\n",
      "bs: 'harness real-time e-markets' } },\n",
      "{ id: 2,\n",
      "name: 'Ervin Howell',\n",
      "username: 'Antonette',\n",
      "email: 'Shanna@melissa.tv',\n",
      "address:\n",
      "{ street: 'Victor Plains',\n",
      "suite: 'Suite 879',\n",
      "city: 'Wisokyburgh',\n",
      "zipcode: '90566-7771',\n",
      "geo: [Object] },\n",
      "phone: '010-692-6593 x09125',\n",
      "website: 'anastasia.net',\n",
      "company:\n",
      "{ name: 'Deckow-Crist',\n",
      "catchPhrase: 'Proactive didactic contingency',\n",
      "bs: 'synergize scalable supply-chains' } },\n",
      "{ id: 3,\n",
      "name: 'Clementine Bauch',\n",
      "username: 'Samantha',\n",
      "email: 'Nathan@yesenia.net',\n",
      "address:\n",
      "{ street: 'Douglas Extension',\n",
      "suite: 'Suite 847',\n",
      "city: 'McKenziehaven',\n",
      "zipcode: '59590-4157',\n",
      "geo: [Object] },\n",
      "phone: '1-463-123-4447',\n",
      "website: 'ramiro.info',\n",
      "company:\n",
      "{ name: 'Romaguera-Jacobson',\n",
      "catchPhrase: 'Face to face bifurcated interface',\n",
      "bs: 'e-enable strategic applications' } },\n",
      "{ id: 4,\n",
      "name: 'Patricia Lebsack',\n",
      "username: 'Karianne',\n",
      "email: 'Julianne.OConner@kory.org',\n",
      "address:\n",
      "{ street: 'Hoeger Mall',\n",
      "suite: 'Apt. 692',\n",
      "city: 'South Elvis',\n",
      "zipcode: '53919-4257',\n",
      "geo: [Object] },\n",
      "phone: '493-170-9623 x156',\n",
      "website: 'kale.biz',\n",
      "company:\n",
      "{ name: 'Robel-Corkery',\n",
      "catchPhrase: 'Multi-tiered zero tolerance productivity',\n",
      "bs: 'transition cutting-edge web services' } },\n",
      "{ id: 5,\n",
      "name: 'Chelsey Dietrich',\n",
      "username: 'Kamren',\n",
      "email: 'Lucio_Hettinger@annie.ca',\n",
      "address:\n",
      "{ street: 'Skiles Walks',\n",
      "suite: 'Suite 351',\n",
      "city: 'Roscoeview',\n",
      "zipcode: '33263',\n",
      "geo: [Object] },\n",
      "phone: '(254)954-1289',\n",
      "website: 'demarco.info',\n",
      "company:\n",
      "{ name: 'Keebler LLC',\n",
      "catchPhrase: 'User-centric fault-tolerant solution',\n",
      "bs: 'revolutionize end-to-end systems' } },\n",
      "{ id: 6,\n",
      "name: 'Mrs. Dennis Schulist',\n",
      "username: 'Leopoldo_Corkery',\n",
      "email: 'Karley_Dach@jasper.info',\n",
      "address:\n",
      "{ street: 'Norberto Crossing',\n",
      "suite: 'Apt. 950',\n",
      "city: 'South Christy',\n",
      "zipcode: '23505-1337',\n",
      "geo: [Object] },\n",
      "phone: '1-477-935-8478 x6430',\n",
      "website: 'ola.org',\n",
      "company:\n",
      "{ name: 'Considine-Lockman',\n",
      "catchPhrase: 'Synchronised bottom-line interface',\n",
      "bs: 'e-enable innovative applications' } },\n",
      "{ id: 7,\n",
      "name: 'Kurtis Weissnat',\n",
      "username: 'Elwyn.Skiles',\n",
      "email: 'Telly.Hoeger@billy.biz',\n",
      "address:\n",
      "{ street: 'Rex Trail',\n",
      "suite: 'Suite 280',\n",
      "city: 'Howemouth',\n",
      "zipcode: '58804-1099',\n",
      "geo: [Object] },\n",
      "phone: '210.067.6132',\n",
      "website: 'elvis.io',\n",
      "company:\n",
      "{ name: 'Johns Group',\n",
      "catchPhrase: 'Configurable multimedia task-force',\n",
      "bs: 'generate enterprise e-tailers' } },\n",
      "{ id: 8,\n",
      "name: 'Nicholas Runolfsdottir V',\n",
      "username: 'Maxime_Nienow',\n",
      "email: 'Sherwood@rosamond.me',\n",
      "address:\n",
      "{ street: 'Ellsworth Summit',\n",
      "suite: 'Suite 729',\n",
      "city: 'Aliyaview',\n",
      "zipcode: '45169',\n",
      "geo: [Object] },\n",
      "phone: '586.493.6943 x140',\n",
      "website: 'jacynthe.com',\n",
      "company:\n",
      "{ name: 'Abernathy Group',\n",
      "catchPhrase: 'Implemented secondary concept',\n",
      "bs: 'e-enable extensible e-tailers' } },\n",
      "{ id: 9,\n",
      "name: 'Glenna Reichert',\n",
      "username: 'Delphine',\n",
      "email: 'Chaim_McDermott@dana.io',\n",
      "address:\n",
      "{ street: 'Dayna Park',\n",
      "suite: 'Suite 449',\n",
      "city: 'Bartholomebury',\n",
      "zipcode: '76495-3109',\n",
      "geo: [Object] },\n",
      "phone: '(775)976-6794 x41206',\n",
      "website: 'conrad.com',\n",
      "company:\n",
      "{ name: 'Yost and Sons',\n",
      "catchPhrase: 'Switchable contextually-based project',\n",
      "bs: 'aggregate real-time technologies' } },\n",
      "{ id: 10,\n",
      "name: 'Clementina DuBuque',\n",
      "username: 'Moriah.Stanton',\n",
      "email: 'Rey.Padberg@karina.biz',\n",
      "address:\n",
      "{ street: 'Kattie Turnpike',\n",
      "suite: 'Suite 198',\n",
      "city: 'Lebsackbury',\n",
      "zipcode: '31428-2261',\n",
      "geo: [Object] },\n",
      "phone: '024-648-3804',\n",
      "website: 'ambrose.net',\n",
      "company:\n",
      "{ name: 'Hoeger LLC',\n",
      "catchPhrase: 'Centralized empowering task-force',\n",
      "bs: 'target end-to-end models' } } ]\n",
      "----------------------- Posts is next -----------------------------\n",
      "posta [ { userId: 1,\n",
      "id: 1,\n",
      "title: 'sunt aut facere repellat provident occaecati excepturi optio reprehenderit',\n",
      "body: 'quia et suscipit\\nsuscipit recusandae consequuntur expedita et cum\\nreprehenderit molestiae ut ut quas totam\\nnostrum rerum est autem sunt rem eveniet architecto' },\n",
      "{ userId: 1,\n",
      "id: 2,\n",
      "title: 'qui est esse',\n",
      "body: 'est rerum tempore vitae\\nsequi sint nihil reprehenderit dolor beatae ea dolores neque\\nfugiat blanditiis voluptate porro vel nihil molestiae ut reiciendis\\nqui aperiam non debitis possimus qui neque nisi nulla' },\n",
      "{ userId: 1,\n",
      "id: 3,\n",
      "title: 'ea molestias quasi exercitationem repellat qui ipsa sit aut',\n",
      "body: 'et iusto sed quo iure\\nvoluptatem occaecati omnis eligendi aut ad\\nvoluptatem doloribus vel accusantium quis pariatur\\nmolestiae porro eius odio et labore et velit aut' },\n",
      "{ userId: 1,\n",
      "id: 4,\n",
      "title: 'eum et est occaecati',\n",
      "body: 'ullam et saepe reiciendis voluptatem adipisci\\nsit amet autem assumenda provident rerum culpa\\nquis hic commodi nesciunt rem tenetur doloremque ipsam iure\\nquis sunt voluptatem rerum illo velit' },\n",
      "{ userId: 1,\n",
      "id: 5,\n",
      "title: 'nesciunt quas odio',\n",
      "body: 'repudiandae veniam quaerat sunt sed\\nalias aut fugiat sit autem sed est\\nvoluptatem omnis possimus esse voluptatibus quis\\nest aut tenetur dolor neque' },\n",
      "{ userId: 1,\n",
      "id: 6,\n",
      "title: 'dolorem eum magni eos aperiam quia',\n",
      "body: 'ut aspernatur corporis harum nihil quis provident sequi\\nmollitia nobis aliquid molestiae\\nperspiciatis et ea nemo ab reprehenderit accusantium quas\\nvoluptate dolores velit et doloremque molestiae' },\n",
      "{ userId: 1,\n",
      "id: 7,\n",
      "title: 'magnam facilis autem',\n",
      "body: 'dolore placeat quibusdam ea quo vitae\\nmagni quis enim qui quis quo nemo aut saepe\\nquidem repellat excepturi ut quia\\nsunt ut sequi eos ea sed quas' },\n",
      "{ userId: 1,\n",
      "id: 8,\n",
      "title: 'dolorem dolore est ipsam',\n",
      "body: 'dignissimos aperiam dolorem qui eum\\nfacilis quibusdam animi sint suscipit qui sint possimus cum\\nquaerat magni maiores excepturi\\nipsam ut commodi dolor voluptatum modi aut vitae' },\n",
      "{ userId: 1,\n",
      "id: 9,\n",
      "title: 'nesciunt iure omnis dolorem tempora et accusantium',\n",
      "body: 'consectetur animi nesciunt iure dolore\\nenim quia ad\\nveniam autem ut quam aut nobis\\net est aut quod aut provident voluptas autem voluptas' },\n",
      "{ userId: 1,\n",
      "id: 10,\n",
      "title: 'optio molestias id quia eum',\n",
      "body: 'quo et expedita modi cum officia vel magni\\ndoloribus qui repudiandae\\nvero nisi sit\\nquos veniam quod sed accusamus veritatis error' },\n",
      "{ userId: 2,\n",
      "id: 11,\n",
      "title: 'et ea vero quia laudantium autem',\n",
      "body: 'delectus reiciendis molestiae occaecati non minima eveniet qui voluptatibus\\naccusamus in eum beatae sit\\nvel qui neque voluptates ut commodi qui incidunt\\nut animi commodi' },\n",
      "{ userId: 2,\n",
      "id: 12,\n",
      "title: 'in quibusdam tempore odit est dolorem',\n",
      "body: 'itaque id aut magnam\\npraesentium quia et ea odit et ea voluptas et\\nsapiente quia nihil amet occaecati quia id voluptatem\\nincidunt ea est distinctio odio' },\n",
      "{ userId: 2,\n",
      "id: 13,\n",
      "title: 'dolorum ut in voluptas mollitia et saepe quo animi',\n",
      "body: 'aut dicta possimus sint mollitia voluptas commodi quo doloremque\\niste corrupti reiciendis voluptatem eius rerum\\nsit cumque quod eligendi laborum minima\\nperferendis recusandae assumenda consectetur porro architecto ipsum ipsam' },\n",
      "{ userId: 2,\n",
      "id: 14,\n",
      "title: 'voluptatem eligendi optio',\n",
      "body: 'fuga et accusamus dolorum perferendis illo voluptas\\nnon doloremque neque facere\\nad qui dolorum molestiae beatae\\nsed aut voluptas totam sit illum' },\n",
      "{ userId: 2,\n",
      "id: 15,\n",
      "title: 'eveniet quod temporibus',\n",
      "body: 'reprehenderit quos placeat\\nvelit minima officia dolores impedit repudiandae molestiae nam\\nvoluptas recusandae quis delectus\\nofficiis harum fugiat vitae' },\n",
      "{ userId: 2,\n",
      "id: 16,\n",
      "title: 'sint suscipit perspiciatis velit dolorum rerum ipsa laboriosam odio',\n",
      "body: 'suscipit nam nisi quo aperiam aut\\nasperiores eos fugit maiores voluptatibus quia\\nvoluptatem quis ullam qui in alias quia est\\nconsequatur magni mollitia accusamus ea nisi voluptate dicta' },\n",
      "{ userId: 2,\n",
      "id: 17,\n",
      "title: 'fugit voluptas sed molestias voluptatem provident',\n",
      "body: 'eos voluptas et aut odit natus earum\\naspernatur fuga molestiae ullam\\ndeserunt ratione qui eos\\nqui nihil ratione nemo velit ut aut id quo' },\n",
      "{ userId: 2,\n",
      "id: 18,\n",
      "title: 'voluptate et itaque vero tempora molestiae',\n",
      "body: 'eveniet quo quis\\nlaborum totam consequatur non dolor\\nut et est repudiandae\\nest voluptatem vel debitis et magnam' },\n",
      "{ userId: 2,\n",
      "id: 19,\n",
      "title: 'adipisci placeat illum aut reiciendis qui',\n",
      "body: 'illum quis cupiditate provident sit magnam\\nea sed aut omnis\\nveniam maiores ullam consequatur atque\\nadipisci quo iste expedita sit quos voluptas' },\n",
      "{ userId: 2,\n",
      "id: 20,\n",
      "title: 'doloribus ad provident suscipit at',\n",
      "body: 'qui consequuntur ducimus possimus quisquam amet similique\\nsuscipit porro ipsam amet\\neos veritatis officiis exercitationem vel fugit aut necessitatibus totam\\nomnis rerum consequatur expedita quidem cumque explicabo' },\n",
      "{ userId: 3,\n",
      "id: 21,\n",
      "title: 'asperiores ea ipsam voluptatibus modi minima quia sint',\n",
      "body: 'repellat aliquid praesentium dolorem quo\\nsed totam minus non itaque\\nnihil labore molestiae sunt dolor eveniet hic recusandae veniam\\ntempora et tenetur expedita sunt' },\n",
      "{ userId: 3,\n",
      "id: 22,\n",
      "title: 'dolor sint quo a velit explicabo quia nam',\n",
      "body: 'eos qui et ipsum ipsam suscipit aut\\nsed omnis non odio\\nexpedita earum mollitia molestiae aut atque rem suscipit\\nnam impedit esse' },\n",
      "{ userId: 3,\n",
      "id: 23,\n",
      "title: 'maxime id vitae nihil numquam',\n",
      "body: 'veritatis unde neque eligendi\\nquae quod architecto quo neque vitae\\nest illo sit tempora doloremque fugit quod\\net et vel beatae sequi ullam sed tenetur perspiciatis' },\n",
      "{ userId: 3,\n",
      "id: 24,\n",
      "title: 'autem hic labore sunt dolores incidunt',\n",
      "body: 'enim et ex nulla\\nomnis voluptas quia qui\\nvoluptatem consequatur numquam aliquam sunt\\ntotam recusandae id dignissimos aut sed asperiores deserunt' },\n",
      "{ userId: 3,\n",
      "id: 25,\n",
      "title: 'rem alias distinctio quo quis',\n",
      "body: 'ullam consequatur ut\\nomnis quis sit vel consequuntur\\nipsa eligendi ipsum molestiae et omnis error nostrum\\nmolestiae illo tempore quia et distinctio' },\n",
      "{ userId: 3,\n",
      "id: 26,\n",
      "title: 'est et quae odit qui non',\n",
      "body: 'similique esse doloribus nihil accusamus\\nomnis dolorem fuga consequuntur reprehenderit fugit recusandae temporibus\\nperspiciatis cum ut laudantium\\nomnis aut molestiae vel vero' },\n",
      "{ userId: 3,\n",
      "id: 27,\n",
      "title: 'quasi id et eos tenetur aut quo autem',\n",
      "body: 'eum sed dolores ipsam sint possimus debitis occaecati\\ndebitis qui qui et\\nut placeat enim earum aut odit facilis\\nconsequatur suscipit necessitatibus rerum sed inventore temporibus consequatur' },\n",
      "{ userId: 3,\n",
      "id: 28,\n",
      "title: 'delectus ullam et corporis nulla voluptas sequi',\n",
      "body: 'non et quaerat ex quae ad maiores\\nmaiores recusandae totam aut blanditiis mollitia quas illo\\nut voluptatibus voluptatem\\nsimilique nostrum eum' },\n",
      "{ userId: 3,\n",
      "id: 29,\n",
      "title: 'iusto eius quod necessitatibus culpa ea',\n",
      "body: 'odit magnam ut saepe sed non qui\\ntempora atque nihil\\naccusamus illum doloribus illo dolor\\neligendi repudiandae odit magni similique sed cum maiores' },\n",
      "{ userId: 3,\n",
      "id: 30,\n",
      "title: 'a quo magni similique perferendis',\n",
      "body: 'alias dolor cumque\\nimpedit blanditiis non eveniet odio maxime\\nblanditiis amet eius quis tempora quia autem rem\\na provident perspiciatis quia' },\n",
      "{ userId: 4,\n",
      "id: 31,\n",
      "title: 'ullam ut quidem id aut vel consequuntur',\n",
      "body: 'debitis eius sed quibusdam non quis consectetur vitae\\nimpedit ut qui consequatur sed aut in\\nquidem sit nostrum et maiores adipisci atque\\nquaerat voluptatem adipisci repudiandae' },\n",
      "{ userId: 4,\n",
      "id: 32,\n",
      "title: 'doloremque illum aliquid sunt',\n",
      "body: 'deserunt eos nobis asperiores et hic\\nest debitis repellat molestiae optio\\nnihil ratione ut eos beatae quibusdam distinctio maiores\\nearum voluptates et aut adipisci ea maiores voluptas maxime' },\n",
      "{ userId: 4,\n",
      "id: 33,\n",
      "title: 'qui explicabo molestiae dolorem',\n",
      "body: 'rerum ut et numquam laborum odit est sit\\nid qui sint in\\nquasi tenetur tempore aperiam et quaerat qui in\\nrerum officiis sequi cumque quod' },\n",
      "{ userId: 4,\n",
      "id: 34,\n",
      "title: 'magnam ut rerum iure',\n",
      "body: 'ea velit perferendis earum ut voluptatem voluptate itaque iusto\\ntotam pariatur in\\nnemo voluptatem voluptatem autem magni tempora minima in\\nest distinctio qui assumenda accusamus dignissimos officia nesciunt nobis' },\n",
      "{ userId: 4,\n",
      "id: 35,\n",
      "title: 'id nihil consequatur molestias animi provident',\n",
      "body: 'nisi error delectus possimus ut eligendi vitae\\nplaceat eos harum cupiditate facilis reprehenderit voluptatem beatae\\nmodi ducimus quo illum voluptas eligendi\\net nobis quia fugit' },\n",
      "{ userId: 4,\n",
      "id: 36,\n",
      "title: 'fuga nam accusamus voluptas reiciendis itaque',\n",
      "body: 'ad mollitia et omnis minus architecto odit\\nvoluptas doloremque maxime aut non ipsa qui alias veniam\\nblanditiis culpa aut quia nihil cumque facere et occaecati\\nqui aspernatur quia eaque ut aperiam inventore' },\n",
      "{ userId: 4,\n",
      "id: 37,\n",
      "title: 'provident vel ut sit ratione est',\n",
      "body: 'debitis et eaque non officia sed nesciunt pariatur vel\\nvoluptatem iste vero et ea\\nnumquam aut expedita ipsum nulla in\\nvoluptates omnis consequatur aut enim officiis in quam qui' },\n",
      "{ userId: 4,\n",
      "id: 38,\n",
      "title: 'explicabo et eos deleniti nostrum ab id repellendus',\n",
      "body: 'animi esse sit aut sit nesciunt assumenda eum voluptas\\nquia voluptatibus provident quia necessitatibus ea\\nrerum repudiandae quia voluptatem delectus fugit aut id quia\\nratione optio eos iusto veniam iure' },\n",
      "{ userId: 4,\n",
      "id: 39,\n",
      "title: 'eos dolorem iste accusantium est eaque quam',\n",
      "body: 'corporis rerum ducimus vel eum accusantium\\nmaxime aspernatur a porro possimus iste omnis\\nest in deleniti asperiores fuga aut\\nvoluptas sapiente vel dolore minus voluptatem incidunt ex' },\n",
      "{ userId: 4,\n",
      "id: 40,\n",
      "title: 'enim quo cumque',\n",
      "body: 'ut voluptatum aliquid illo tenetur nemo sequi quo facilis\\nipsum rem optio mollitia quas\\nvoluptatem eum voluptas qui\\nunde omnis voluptatem iure quasi maxime voluptas nam' },\n",
      "{ userId: 5,\n",
      "id: 41,\n",
      "title: 'non est facere',\n",
      "body: 'molestias id nostrum\\nexcepturi molestiae dolore omnis repellendus quaerat saepe\\nconsectetur iste quaerat tenetur asperiores accusamus ex ut\\nnam quidem est ducimus sunt debitis saepe' },\n",
      "{ userId: 5,\n",
      "id: 42,\n",
      "title: 'commodi ullam sint et excepturi error explicabo praesentium voluptas',\n",
      "body: 'odio fugit voluptatum ducimus earum autem est incidunt voluptatem\\nodit reiciendis aliquam sunt sequi nulla dolorem\\nnon facere repellendus voluptates quia\\nratione harum vitae ut' },\n",
      "{ userId: 5,\n",
      "id: 43,\n",
      "title: 'eligendi iste nostrum consequuntur adipisci praesentium sit beatae perferendis',\n",
      "body: 'similique fugit est\\nillum et dolorum harum et voluptate eaque quidem\\nexercitationem quos nam commodi possimus cum odio nihil nulla\\ndolorum exercitationem magnam ex et a et distinctio debitis' },\n",
      "{ userId: 5,\n",
      "id: 44,\n",
      "title: 'optio dolor molestias sit',\n",
      "body: 'temporibus est consectetur dolore\\net libero debitis vel velit laboriosam quia\\nipsum quibusdam qui itaque fuga rem aut\\nea et iure quam sed maxime ut distinctio quae' },\n",
      "{ userId: 5,\n",
      "id: 45,\n",
      "title: 'ut numquam possimus omnis eius suscipit laudantium iure',\n",
      "body: 'est natus reiciendis nihil possimus aut provident\\nex et dolor\\nrepellat pariatur est\\nnobis rerum repellendus dolorem autem' },\n",
      "{ userId: 5,\n",
      "id: 46,\n",
      "title: 'aut quo modi neque nostrum ducimus',\n",
      "body: 'voluptatem quisquam iste\\nvoluptatibus natus officiis facilis dolorem\\nquis quas ipsam\\nvel et voluptatum in aliquid' },\n",
      "{ userId: 5,\n",
      "id: 47,\n",
      "title: 'quibusdam cumque rem aut deserunt',\n",
      "body: 'voluptatem assumenda ut qui ut cupiditate aut impedit veniam\\noccaecati nemo illum voluptatem laudantium\\nmolestiae beatae rerum ea iure soluta nostrum\\neligendi et voluptate' },\n",
      "{ userId: 5,\n",
      "id: 48,\n",
      "title: 'ut voluptatem illum ea doloribus itaque eos',\n",
      "body: 'voluptates quo voluptatem facilis iure occaecati\\nvel assumenda rerum officia et\\nillum perspiciatis ab deleniti\\nlaudantium repellat ad ut et autem reprehenderit' },\n",
      "{ userId: 5,\n",
      "id: 49,\n",
      "title: 'laborum non sunt aut ut assumenda perspiciatis voluptas',\n",
      "body: 'inventore ab sint\\nnatus fugit id nulla sequi architecto nihil quaerat\\neos tenetur in in eum veritatis non\\nquibusdam officiis aspernatur cumque aut commodi aut' },\n",
      "{ userId: 5,\n",
      "id: 50,\n",
      "title: 'repellendus qui recusandae incidunt voluptates tenetur qui omnis exercitationem',\n",
      "body: 'error suscipit maxime adipisci consequuntur recusandae\\nvoluptas eligendi et est et voluptates\\nquia distinctio ab amet quaerat molestiae et vitae\\nadipisci impedit sequi nesciunt quis consectetur' },\n",
      "{ userId: 6,\n",
      "id: 51,\n",
      "title: 'soluta aliquam aperiam consequatur illo quis voluptas',\n",
      "body: 'sunt dolores aut doloribus\\ndolore doloribus voluptates tempora et\\ndoloremque et quo\\ncum asperiores sit consectetur dolorem' },\n",
      "{ userId: 6,\n",
      "id: 52,\n",
      "title: 'qui enim et consequuntur quia animi quis voluptate quibusdam',\n",
      "body: 'iusto est quibusdam fuga quas quaerat molestias\\na enim ut sit accusamus enim\\ntemporibus iusto accusantium provident architecto\\nsoluta esse reprehenderit qui laborum' },\n",
      "{ userId: 6,\n",
      "id: 53,\n",
      "title: 'ut quo aut ducimus alias',\n",
      "body: 'minima harum praesentium eum rerum illo dolore\\nquasi exercitationem rerum nam\\nporro quis neque quo\\nconsequatur minus dolor quidem veritatis sunt non explicabo similique' },\n",
      "{ userId: 6,\n",
      "id: 54,\n",
      "title: 'sit asperiores ipsam eveniet odio non quia',\n",
      "body: 'totam corporis dignissimos\\nvitae dolorem ut occaecati accusamus\\nex velit deserunt\\net exercitationem vero incidunt corrupti mollitia' },\n",
      "{ userId: 6,\n",
      "id: 55,\n",
      "title: 'sit vel voluptatem et non libero',\n",
      "body: 'debitis excepturi ea perferendis harum libero optio\\neos accusamus cum fuga ut sapiente repudiandae\\net ut incidunt omnis molestiae\\nnihil ut eum odit' },\n",
      "{ userId: 6,\n",
      "id: 56,\n",
      "title: 'qui et at rerum necessitatibus',\n",
      "body: 'aut est omnis dolores\\nneque rerum quod ea rerum velit pariatur beatae excepturi\\net provident voluptas corrupti\\ncorporis harum reprehenderit dolores eligendi' },\n",
      "{ userId: 6,\n",
      "id: 57,\n",
      "title: 'sed ab est est',\n",
      "body: 'at pariatur consequuntur earum quidem\\nquo est laudantium soluta voluptatem\\nqui ullam et est\\net cum voluptas voluptatum repellat est' },\n",
      "{ userId: 6,\n",
      "id: 58,\n",
      "title: 'voluptatum itaque dolores nisi et quasi',\n",
      "body: 'veniam voluptatum quae adipisci id\\net id quia eos ad et dolorem\\naliquam quo nisi sunt eos impedit error\\nad similique veniam' },\n",
      "{ userId: 6,\n",
      "id: 59,\n",
      "title: 'qui commodi dolor at maiores et quis id accusantium',\n",
      "body: 'perspiciatis et quam ea autem temporibus non voluptatibus qui\\nbeatae a earum officia nesciunt dolores suscipit voluptas et\\nanimi doloribus cum rerum quas et magni\\net hic ut ut commodi expedita sunt' },\n",
      "{ userId: 6,\n",
      "id: 60,\n",
      "title: 'consequatur placeat omnis quisquam quia reprehenderit fugit veritatis facere',\n",
      "body: 'asperiores sunt ab assumenda cumque modi velit\\nqui esse omnis\\nvoluptate et fuga perferendis voluptas\\nillo ratione amet aut et omnis' },\n",
      "{ userId: 7,\n",
      "id: 61,\n",
      "title: 'voluptatem doloribus consectetur est ut ducimus',\n",
      "body: 'ab nemo optio odio\\ndelectus tenetur corporis similique nobis repellendus rerum omnis facilis\\nvero blanditiis debitis in nesciunt doloribus dicta dolores\\nmagnam minus velit' },\n",
      "{ userId: 7,\n",
      "id: 62,\n",
      "title: 'beatae enim quia vel',\n",
      "body: 'enim aspernatur illo distinctio quae praesentium\\nbeatae alias amet delectus qui voluptate distinctio\\nodit sint accusantium autem omnis\\nquo molestiae omnis ea eveniet optio' },\n",
      "{ userId: 7,\n",
      "id: 63,\n",
      "title: 'voluptas blanditiis repellendus animi ducimus error sapiente et suscipit',\n",
      "body: 'enim adipisci aspernatur nemo\\nnumquam omnis facere dolorem dolor ex quis temporibus incidunt\\nab delectus culpa quo reprehenderit blanditiis asperiores\\naccusantium ut quam in voluptatibus voluptas ipsam dicta' },\n",
      "{ userId: 7,\n",
      "id: 64,\n",
      "title: 'et fugit quas eum in in aperiam quod',\n",
      "body: 'id velit blanditiis\\neum ea voluptatem\\nmolestiae sint occaecati est eos perspiciatis\\nincidunt a error provident eaque aut aut qui' },\n",
      "{ userId: 7,\n",
      "id: 65,\n",
      "title: 'consequatur id enim sunt et et',\n",
      "body: 'voluptatibus ex esse\\nsint explicabo est aliquid cumque adipisci fuga repellat labore\\nmolestiae corrupti ex saepe at asperiores et perferendis\\nnatus id esse incidunt pariatur' },\n",
      "{ userId: 7,\n",
      "id: 66,\n",
      "title: 'repudiandae ea animi iusto',\n",
      "body: 'officia veritatis tenetur vero qui itaque\\nsint non ratione\\nsed et ut asperiores iusto eos molestiae nostrum\\nveritatis quibusdam et nemo iusto saepe' },\n",
      "{ userId: 7,\n",
      "id: 67,\n",
      "title: 'aliquid eos sed fuga est maxime repellendus',\n",
      "body: 'reprehenderit id nostrum\\nvoluptas doloremque pariatur sint et accusantium quia quod aspernatur\\net fugiat amet\\nnon sapiente et consequatur necessitatibus molestiae' },\n",
      "{ userId: 7,\n",
      "id: 68,\n",
      "title: 'odio quis facere architecto reiciendis optio',\n",
      "body: 'magnam molestiae perferendis quisquam\\nqui cum reiciendis\\nquaerat animi amet hic inventore\\nea quia deleniti quidem saepe porro velit' },\n",
      "{ userId: 7,\n",
      "id: 69,\n",
      "title: 'fugiat quod pariatur odit minima',\n",
      "body: 'officiis error culpa consequatur modi asperiores et\\ndolorum assumenda voluptas et vel qui aut vel rerum\\nvoluptatum quisquam perspiciatis quia rerum consequatur totam quas\\nsequi commodi repudiandae asperiores et saepe a' },\n",
      "{ userId: 7,\n",
      "id: 70,\n",
      "title: 'voluptatem laborum magni',\n",
      "body: 'sunt repellendus quae\\nest asperiores aut deleniti esse accusamus repellendus quia aut\\nquia dolorem unde\\neum tempora esse dolore' },\n",
      "{ userId: 8,\n",
      "id: 71,\n",
      "title: 'et iusto veniam et illum aut fuga',\n",
      "body: 'occaecati a doloribus\\niste saepe consectetur placeat eum voluptate dolorem et\\nqui quo quia voluptas\\nrerum ut id enim velit est perferendis' },\n",
      "{ userId: 8,\n",
      "id: 72,\n",
      "title: 'sint hic doloribus consequatur eos non id',\n",
      "body: 'quam occaecati qui deleniti consectetur\\nconsequatur aut facere quas exercitationem aliquam hic voluptas\\nneque id sunt ut aut accusamus\\nsunt consectetur expedita inventore velit' },\n",
      "{ userId: 8,\n",
      "id: 73,\n",
      "title: 'consequuntur deleniti eos quia temporibus ab aliquid at',\n",
      "body: 'voluptatem cumque tenetur consequatur expedita ipsum nemo quia explicabo\\naut eum minima consequatur\\ntempore cumque quae est et\\net in consequuntur voluptatem voluptates aut' },\n",
      "{ userId: 8,\n",
      "id: 74,\n",
      "title: 'enim unde ratione doloribus quas enim ut sit sapiente',\n",
      "body: 'odit qui et et necessitatibus sint veniam\\nmollitia amet doloremque molestiae commodi similique magnam et quam\\nblanditiis est itaque\\nquo et tenetur ratione occaecati molestiae tempora' },\n",
      "{ userId: 8,\n",
      "id: 75,\n",
      "title: 'dignissimos eum dolor ut enim et delectus in',\n",
      "body: 'commodi non non omnis et voluptas sit\\nautem aut nobis magnam et sapiente voluptatem\\net laborum repellat qui delectus facilis temporibus\\nrerum amet et nemo voluptate expedita adipisci error dolorem' },\n",
      "{ userId: 8,\n",
      "id: 76,\n",
      "title: 'doloremque officiis ad et non perferendis',\n",
      "body: 'ut animi facere\\ntotam iusto tempore\\nmolestiae eum aut et dolorem aperiam\\nquaerat recusandae totam odio' },\n",
      "{ userId: 8,\n",
      "id: 77,\n",
      "title: 'necessitatibus quasi exercitationem odio',\n",
      "body: 'modi ut in nulla repudiandae dolorum nostrum eos\\naut consequatur omnis\\nut incidunt est omnis iste et quam\\nvoluptates sapiente aliquam asperiores nobis amet corrupti repudiandae provident' },\n",
      "{ userId: 8,\n",
      "id: 78,\n",
      "title: 'quam voluptatibus rerum veritatis',\n",
      "body: 'nobis facilis odit tempore cupiditate quia\\nassumenda doloribus rerum qui ea\\nillum et qui totam\\naut veniam repellendus' },\n",
      "{ userId: 8,\n",
      "id: 79,\n",
      "title: 'pariatur consequatur quia magnam autem omnis non amet',\n",
      "body: 'libero accusantium et et facere incidunt sit dolorem\\nnon excepturi qui quia sed laudantium\\nquisquam molestiae ducimus est\\nofficiis esse molestiae iste et quos' },\n",
      "{ userId: 8,\n",
      "id: 80,\n",
      "title: 'labore in ex et explicabo corporis aut quas',\n",
      "body: 'ex quod dolorem ea eum iure qui provident amet\\nquia qui facere excepturi et repudiandae\\nasperiores molestias provident\\nminus incidunt vero fugit rerum sint sunt excepturi provident' },\n",
      "{ userId: 9,\n",
      "id: 81,\n",
      "title: 'tempora rem veritatis voluptas quo dolores vero',\n",
      "body: 'facere qui nesciunt est voluptatum voluptatem nisi\\nsequi eligendi necessitatibus ea at rerum itaque\\nharum non ratione velit laboriosam quis consequuntur\\nex officiis minima doloremque voluptas ut aut' },\n",
      "{ userId: 9,\n",
      "id: 82,\n",
      "title: 'laudantium voluptate suscipit sunt enim enim',\n",
      "body: 'ut libero sit aut totam inventore sunt\\nporro sint qui sunt molestiae\\nconsequatur cupiditate qui iste ducimus adipisci\\ndolor enim assumenda soluta laboriosam amet iste delectus hic' },\n",
      "{ userId: 9,\n",
      "id: 83,\n",
      "title: 'odit et voluptates doloribus alias odio et',\n",
      "body: 'est molestiae facilis quis tempora numquam nihil qui\\nvoluptate sapiente consequatur est qui\\nnecessitatibus autem aut ipsa aperiam modi dolore numquam\\nreprehenderit eius rem quibusdam' },\n",
      "{ userId: 9,\n",
      "id: 84,\n",
      "title: 'optio ipsam molestias necessitatibus occaecati facilis veritatis dolores aut',\n",
      "body: 'sint molestiae magni a et quos\\neaque et quasi\\nut rerum debitis similique veniam\\nrecusandae dignissimos dolor incidunt consequatur odio' },\n",
      "{ userId: 9,\n",
      "id: 85,\n",
      "title: 'dolore veritatis porro provident adipisci blanditiis et sunt',\n",
      "body: 'similique sed nisi voluptas iusto omnis\\nmollitia et quo\\nassumenda suscipit officia magnam sint sed tempora\\nenim provident pariatur praesentium atque animi amet ratione' },\n",
      "{ userId: 9,\n",
      "id: 86,\n",
      "title: 'placeat quia et porro iste',\n",
      "body: 'quasi excepturi consequatur iste autem temporibus sed molestiae beatae\\net quaerat et esse ut\\nvoluptatem occaecati et vel explicabo autem\\nasperiores pariatur deserunt optio' },\n",
      "{ userId: 9,\n",
      "id: 87,\n",
      "title: 'nostrum quis quasi placeat',\n",
      "body: 'eos et molestiae\\nnesciunt ut a\\ndolores perspiciatis repellendus repellat aliquid\\nmagnam sint rem ipsum est' },\n",
      "{ userId: 9,\n",
      "id: 88,\n",
      "title: 'sapiente omnis fugit eos',\n",
      "body: 'consequatur omnis est praesentium\\nducimus non iste\\nneque hic deserunt\\nvoluptatibus veniam cum et rerum sed' },\n",
      "{ userId: 9,\n",
      "id: 89,\n",
      "title: 'sint soluta et vel magnam aut ut sed qui',\n",
      "body: 'repellat aut aperiam totam temporibus autem et\\narchitecto magnam ut\\nconsequatur qui cupiditate rerum quia soluta dignissimos nihil iure\\ntempore quas est' },\n",
      "{ userId: 9,\n",
      "id: 90,\n",
      "title: 'ad iusto omnis odit dolor voluptatibus',\n",
      "body: 'minus omnis soluta quia\\nqui sed adipisci voluptates illum ipsam voluptatem\\neligendi officia ut in\\neos soluta similique molestias praesentium blanditiis' },\n",
      "{ userId: 10,\n",
      "id: 91,\n",
      "title: 'aut amet sed',\n",
      "body: 'libero voluptate eveniet aperiam sed\\nsunt placeat suscipit molestias\\nsimilique fugit nam natus\\nexpedita consequatur consequatur dolores quia eos et placeat' },\n",
      "{ userId: 10,\n",
      "id: 92,\n",
      "title: 'ratione ex tenetur perferendis',\n",
      "body: 'aut et excepturi dicta laudantium sint rerum nihil\\nlaudantium et at\\na neque minima officia et similique libero et\\ncommodi voluptate qui' },\n",
      "{ userId: 10,\n",
      "id: 93,\n",
      "title: 'beatae soluta recusandae',\n",
      "body: 'dolorem quibusdam ducimus consequuntur dicta aut quo laboriosam\\nvoluptatem quis enim recusandae ut sed sunt\\nnostrum est odit totam\\nsit error sed sunt eveniet provident qui nulla' },\n",
      "{ userId: 10,\n",
      "id: 94,\n",
      "title: 'qui qui voluptates illo iste minima',\n",
      "body: 'aspernatur expedita soluta quo ab ut similique\\nexpedita dolores amet\\nsed temporibus distinctio magnam saepe deleniti\\nomnis facilis nam ipsum natus sint similique omnis' },\n",
      "{ userId: 10,\n",
      "id: 95,\n",
      "title: 'id minus libero illum nam ad officiis',\n",
      "body: 'earum voluptatem facere provident blanditiis velit laboriosam\\npariatur accusamus odio saepe\\ncumque dolor qui a dicta ab doloribus consequatur omnis\\ncorporis cupiditate eaque assumenda ad nesciunt' },\n",
      "{ userId: 10,\n",
      "id: 96,\n",
      "title: 'quaerat velit veniam amet cupiditate aut numquam ut sequi',\n",
      "body: 'in non odio excepturi sint eum\\nlabore voluptates vitae quia qui et\\ninventore itaque rerum\\nveniam non exercitationem delectus aut' },\n",
      "{ userId: 10,\n",
      "id: 97,\n",
      "title: 'quas fugiat ut perspiciatis vero provident',\n",
      "body: 'eum non blanditiis soluta porro quibusdam voluptas\\nvel voluptatem qui placeat dolores qui velit aut\\nvel inventore aut cumque culpa explicabo aliquid at\\nperspiciatis est et voluptatem dignissimos dolor itaque sit nam' },\n",
      "{ userId: 10,\n",
      "id: 98,\n",
      "title: 'laboriosam dolor voluptates',\n",
      "body: 'doloremque ex facilis sit sint culpa\\nsoluta assumenda eligendi non ut eius\\nsequi ducimus vel quasi\\nveritatis est dolores' },\n",
      "{ userId: 10,\n",
      "id: 99,\n",
      "title: 'temporibus sit alias delectus eligendi possimus magni',\n",
      "body: 'quo deleniti praesentium dicta non quod\\naut est molestias\\nmolestias et officia quis nihil\\nitaque dolorem quia' },\n",
      "{ userId: 10,\n",
      "id: 100,\n",
      "title: 'at nam consequatur ea labore ea harum',\n",
      "body: 'cupiditate quo est a modi nesciunt soluta\\nipsa voluptas error itaque dicta in\\nautem qui minus magnam et distinctio eum\\naccusamus ratione error aut' } ]\n",
      "albums [ { userId: 1, id: 1, title: 'quidem molestiae enim' },\n",
      "{ userId: 1, id: 2, title: 'sunt qui excepturi placeat culpa' },\n",
      "{ userId: 1, id: 3, title: 'omnis laborum odio' },\n",
      "{ userId: 1,\n",
      "id: 4,\n",
      "title: 'non esse culpa molestiae omnis sed optio' },\n",
      "{ userId: 1, id: 5, title: 'eaque aut omnis a' },\n",
      "{ userId: 1, id: 6, title: 'natus impedit quibusdam illo est' },\n",
      "{ userId: 1, id: 7, title: 'quibusdam autem aliquid et et quia' },\n",
      "{ userId: 1, id: 8, title: 'qui fuga est a eum' },\n",
      "{ userId: 1, id: 9, title: 'saepe unde necessitatibus rem' },\n",
      "{ userId: 1, id: 10, title: 'distinctio laborum qui' },\n",
      "{ userId: 2,\n",
      "id: 11,\n",
      "title: 'quam nostrum impedit mollitia quod et dolor' },\n",
      "{ userId: 2,\n",
      "id: 12,\n",
      "title: 'consequatur autem doloribus natus consectetur' },\n",
      "{ userId: 2,\n",
      "id: 13,\n",
      "title: 'ab rerum non rerum consequatur ut ea unde' },\n",
      "{ userId: 2,\n",
      "id: 14,\n",
      "title: 'ducimus molestias eos animi atque nihil' },\n",
      "{ userId: 2,\n",
      "id: 15,\n",
      "title: 'ut pariatur rerum ipsum natus repellendus praesentium' },\n",
      "{ userId: 2,\n",
      "id: 16,\n",
      "title: 'voluptatem aut maxime inventore autem magnam atque repellat' },\n",
      "{ userId: 2, id: 17, title: 'aut minima voluptatem ut velit' },\n",
      "{ userId: 2, id: 18, title: 'nesciunt quia et doloremque' },\n",
      "{ userId: 2,\n",
      "id: 19,\n",
      "title: 'velit pariatur quaerat similique libero omnis quia' },\n",
      "{ userId: 2, id: 20, title: 'voluptas rerum iure ut enim' },\n",
      "{ userId: 3,\n",
      "id: 21,\n",
      "title: 'repudiandae voluptatem optio est consequatur rem in temporibus et' },\n",
      "{ userId: 3, id: 22, title: 'et rem non provident vel ut' },\n",
      "{ userId: 3,\n",
      "id: 23,\n",
      "title: 'incidunt quisquam hic adipisci sequi' },\n",
      "{ userId: 3, id: 24, title: 'dolores ut et facere placeat' },\n",
      "{ userId: 3,\n",
      "id: 25,\n",
      "title: 'vero maxime id possimus sunt neque et consequatur' },\n",
      "{ userId: 3, id: 26, title: 'quibusdam saepe ipsa vel harum' },\n",
      "{ userId: 3, id: 27, title: 'id non nostrum expedita' },\n",
      "{ userId: 3,\n",
      "id: 28,\n",
      "title: 'omnis neque exercitationem sed dolor atque maxime aut cum' },\n",
      "{ userId: 3,\n",
      "id: 29,\n",
      "title: 'inventore ut quasi magnam itaque est fugit' },\n",
      "{ userId: 3,\n",
      "id: 30,\n",
      "title: 'tempora assumenda et similique odit distinctio error' },\n",
      "{ userId: 4, id: 31, title: 'adipisci laborum fuga laboriosam' },\n",
      "{ userId: 4,\n",
      "id: 32,\n",
      "title: 'reiciendis dolores a ut qui debitis non quo labore' },\n",
      "{ userId: 4, id: 33, title: 'iste eos nostrum' },\n",
      "{ userId: 4,\n",
      "id: 34,\n",
      "title: 'cumque voluptatibus rerum architecto blanditiis' },\n",
      "{ userId: 4,\n",
      "id: 35,\n",
      "title: 'et impedit nisi quae magni necessitatibus sed aut pariatur' },\n",
      "{ userId: 4, id: 36, title: 'nihil cupiditate voluptate neque' },\n",
      "{ userId: 4,\n",
      "id: 37,\n",
      "title: 'est placeat dicta ut nisi rerum iste' },\n",
      "{ userId: 4, id: 38, title: 'unde a sequi id' },\n",
      "{ userId: 4,\n",
      "id: 39,\n",
      "title: 'ratione porro illum labore eum aperiam sed' },\n",
      "{ userId: 4,\n",
      "id: 40,\n",
      "title: 'voluptas neque et sint aut quo odit' },\n",
      "{ userId: 5,\n",
      "id: 41,\n",
      "title: 'ea voluptates maiores eos accusantium officiis tempore mollitia consequatur' },\n",
      "{ userId: 5, id: 42, title: 'tenetur explicabo ea' },\n",
      "{ userId: 5, id: 43, title: 'aperiam doloremque nihil' },\n",
      "{ userId: 5,\n",
      "id: 44,\n",
      "title: 'sapiente cum numquam officia consequatur vel natus quos suscipit' },\n",
      "{ userId: 5,\n",
      "id: 45,\n",
      "title: 'tenetur quos ea unde est enim corrupti qui' },\n",
      "{ userId: 5, id: 46, title: 'molestiae voluptate non' },\n",
      "{ userId: 5, id: 47, title: 'temporibus molestiae aut' },\n",
      "{ userId: 5,\n",
      "id: 48,\n",
      "title: 'modi consequatur culpa aut quam soluta alias perspiciatis laudantium' },\n",
      "{ userId: 5,\n",
      "id: 49,\n",
      "title: 'ut aut vero repudiandae voluptas ullam voluptas at consequatur' },\n",
      "{ userId: 5,\n",
      "id: 50,\n",
      "title: 'sed qui sed quas sit ducimus dolor' },\n",
      "{ userId: 6,\n",
      "id: 51,\n",
      "title: 'odit laboriosam sint quia cupiditate animi quis' },\n",
      "{ userId: 6,\n",
      "id: 52,\n",
      "title: 'necessitatibus quas et sunt at voluptatem' },\n",
      "{ userId: 6,\n",
      "id: 53,\n",
      "title: 'est vel sequi voluptatem nemo quam molestiae modi enim' },\n",
      "{ userId: 6, id: 54, title: 'aut non illo amet perferendis' },\n",
      "{ userId: 6,\n",
      "id: 55,\n",
      "title: 'qui culpa itaque omnis in nesciunt architecto error' },\n",
      "{ userId: 6,\n",
      "id: 56,\n",
      "title: 'omnis qui maiores tempora officiis omnis rerum sed repellat' },\n",
      "{ userId: 6,\n",
      "id: 57,\n",
      "title: 'libero excepturi voluptatem est architecto quae voluptatum officia tempora' },\n",
      "{ userId: 6,\n",
      "id: 58,\n",
      "title: 'nulla illo consequatur aspernatur veritatis aut error delectus et' },\n",
      "{ userId: 6,\n",
      "id: 59,\n",
      "title: 'eligendi similique provident nihil' },\n",
      "{ userId: 6,\n",
      "id: 60,\n",
      "title: 'omnis mollitia sunt aliquid eum consequatur fugit minus laudantium' },\n",
      "{ userId: 7, id: 61, title: 'delectus iusto et' },\n",
      "{ userId: 7,\n",
      "id: 62,\n",
      "title: 'eos ea non recusandae iste ut quasi' },\n",
      "{ userId: 7, id: 63, title: 'velit est quam' },\n",
      "{ userId: 7, id: 64, title: 'autem voluptatem amet iure quae' },\n",
      "{ userId: 7, id: 65, title: 'voluptates delectus iure iste qui' },\n",
      "{ userId: 7,\n",
      "id: 66,\n",
      "title: 'velit sed quia dolor dolores delectus' },\n",
      "{ userId: 7, id: 67, title: 'ad voluptas nostrum et nihil' },\n",
      "{ userId: 7,\n",
      "id: 68,\n",
      "title: 'qui quasi nihil aut voluptatum sit dolore minima' },\n",
      "{ userId: 7, id: 69, title: 'qui aut est' },\n",
      "{ userId: 7, id: 70, title: 'et deleniti unde' },\n",
      "{ userId: 8, id: 71, title: 'et vel corporis' },\n",
      "{ userId: 8, id: 72, title: 'unde exercitationem ut' },\n",
      "{ userId: 8, id: 73, title: 'quos omnis officia' },\n",
      "{ userId: 8, id: 74, title: 'quia est eius vitae dolor' },\n",
      "{ userId: 8, id: 75, title: 'aut quia expedita non' },\n",
      "{ userId: 8,\n",
      "id: 76,\n",
      "title: 'dolorem magnam facere itaque ut reprehenderit tenetur corrupti' },\n",
      "{ userId: 8,\n",
      "id: 77,\n",
      "title: 'cupiditate sapiente maiores iusto ducimus cum excepturi veritatis quia' },\n",
      "{ userId: 8,\n",
      "id: 78,\n",
      "title: 'est minima eius possimus ea ratione velit et' },\n",
      "{ userId: 8,\n",
      "id: 79,\n",
      "title: 'ipsa quae voluptas natus ut suscipit soluta quia quidem' },\n",
      "{ userId: 8, id: 80, title: 'id nihil reprehenderit' },\n",
      "{ userId: 9, id: 81, title: 'quibusdam sapiente et' },\n",
      "{ userId: 9,\n",
      "id: 82,\n",
      "title: 'recusandae consequatur vel amet unde' },\n",
      "{ userId: 9, id: 83, title: 'aperiam odio fugiat' },\n",
      "{ userId: 9, id: 84, title: 'est et at eos expedita' },\n",
      "{ userId: 9,\n",
      "id: 85,\n",
      "title: 'qui voluptatem consequatur aut ab quis temporibus praesentium' },\n",
      "{ userId: 9,\n",
      "id: 86,\n",
      "title: 'eligendi mollitia alias aspernatur vel ut iusto' },\n",
      "{ userId: 9, id: 87, title: 'aut aut architecto' },\n",
      "{ userId: 9, id: 88, title: 'quas perspiciatis optio' },\n",
      "{ userId: 9,\n",
      "id: 89,\n",
      "title: 'sit optio id voluptatem est eum et' },\n",
      "{ userId: 9, id: 90, title: 'est vel dignissimos' },\n",
      "{ userId: 10,\n",
      "id: 91,\n",
      "title: 'repellendus praesentium debitis officiis' },\n",
      "{ userId: 10,\n",
      "id: 92,\n",
      "title: 'incidunt et et eligendi assumenda soluta quia recusandae' },\n",
      "{ userId: 10, id: 93, title: 'nisi qui dolores perspiciatis' },\n",
      "{ userId: 10,\n",
      "id: 94,\n",
      "title: 'quisquam a dolores et earum vitae' },\n",
      "{ userId: 10,\n",
      "id: 95,\n",
      "title: 'consectetur vel rerum qui aperiam modi eos aspernatur ipsa' },\n",
      "{ userId: 10,\n",
      "id: 96,\n",
      "title: 'unde et ut molestiae est molestias voluptatem sint' },\n",
      "{ userId: 10, id: 97, title: 'est quod aut' },\n",
      "{ userId: 10,\n",
      "id: 98,\n",
      "title: 'omnis quia possimus nesciunt deleniti assumenda sed autem' },\n",
      "{ userId: 10,\n",
      "id: 99,\n",
      "title: 'consectetur ut id impedit dolores sit ad ex aut' },\n",
      "{ userId: 10, id: 100, title: 'enim repellat iste' } ]\n"
     ]
    }
   ],
   "source": [
    "%%node\n",
    "var Promise = require('promise');\n",
    "const fetch = require('node-fetch');\n",
    "const urls = [\n",
    "  'https://jsonplaceholder.typicode.com/users',\n",
    "  'https://jsonplaceholder.typicode.com/posts',\n",
    "  'https://jsonplaceholder.typicode.com/albums'\n",
    "]\n",
    "\n",
    "async function getData() {\n",
    "    let response = await Promise.all(urls.map(url => fetch(url)));\n",
    "    let [ users, posts, albums ] = await Promise.all(response.map(resp =>resp.json()));\n",
    "\n",
    "    console.log('users', users);\n",
    "    console.log('posta', posts);\n",
    "    console.log('albums', albums);\n",
    "}\n",
    "\n",
    "getData();\n",
    "\n"
   ]
  },
  {
   "cell_type": "markdown",
   "metadata": {},
   "source": [
    "### 3)Add a try catch block to the 2) solution in order to catch any errors. \n",
    "Now, use the given array containing an invalid url, so you `console.log` your error with 'oooooops'.\n",
    "```\n",
    "const urls = [\n",
    "  'https://jsonplaceholder.typicode.com/users',\n",
    "  'https://jsonplaceholdeTYPO.typicode.com/posts',\n",
    "  'https://jsonplaceholder.typicode.com/albums'\n",
    "]\n",
    "```"
   ]
  },
  {
   "cell_type": "code",
   "execution_count": null,
   "metadata": {},
   "outputs": [],
   "source": [
    "# thanks to https://stackoverflow.com/questions/50006595/using-promise-all-to-fetch-a-list-of-urls-with-await-statements\n",
    "# and https://developer.mozilla.org/en-US/docs/Learn/JavaScript/Asynchronous/Async_await"
   ]
  },
  {
   "cell_type": "code",
   "execution_count": 5,
   "metadata": {},
   "outputs": [
    {
     "name": "stdout",
     "output_type": "stream",
     "text": [
      "SyntaxError: Identifier 'fetch' has already been declared\n",
      "... ... ... ... SyntaxError: Identifier 'urls' has already been declared\n",
      "... ..... ..... ..... ... ... ... ... ... ... ...\n",
      "ooooooops\n"
     ]
    }
   ],
   "source": [
    "%%node\n",
    "var Promise = require('promise');\n",
    "const fetch = require('node-fetch');\n",
    "let urls = [\n",
    "  'https://jsonplaceholder.typicode.com/users',\n",
    "  'https://jsonplaceholdeTYPO.typicode.com/posts',\n",
    "  'https://jsonplaceholder.typicode.com/albums'\n",
    "]\n",
    "\n",
    "async function getData() {\n",
    "    try{\n",
    "        let response = await Promise.all(urls.map(url => fetch(url)));\n",
    "        let [ users, posts, albums ] = await Promise.all(response.map(resp =>resp.json()));\n",
    "\n",
    "        console.log('users', users);\n",
    "        console.log('posta', posts);\n",
    "        console.log('albums', albums);\n",
    "    }catch(e){\n",
    "        console.log(\"ooooooops\");\n",
    "    }\n",
    "}\n",
    "\n",
    "getData();\n"
   ]
  },
  {
   "cell_type": "code",
   "execution_count": null,
   "metadata": {},
   "outputs": [],
   "source": []
  }
 ],
 "metadata": {
  "kernelspec": {
   "display_name": "Python 3",
   "language": "python",
   "name": "python3"
  },
  "language_info": {
   "codemirror_mode": {
    "name": "ipython",
    "version": 3
   },
   "file_extension": ".py",
   "mimetype": "text/x-python",
   "name": "python",
   "nbconvert_exporter": "python",
   "pygments_lexer": "ipython3",
   "version": "3.6.9"
  }
 },
 "nbformat": 4,
 "nbformat_minor": 2
}
